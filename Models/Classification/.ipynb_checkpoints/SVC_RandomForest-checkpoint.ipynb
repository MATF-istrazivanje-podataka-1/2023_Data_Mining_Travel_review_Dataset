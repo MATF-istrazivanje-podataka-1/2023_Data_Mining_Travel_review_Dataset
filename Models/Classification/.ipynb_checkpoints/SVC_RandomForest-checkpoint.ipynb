{
 "cells": [
  {
   "cell_type": "code",
   "execution_count": 1,
   "id": "1460fdc9",
   "metadata": {},
   "outputs": [],
   "source": [
    "import pandas as pd\n",
    "import numpy as np\n",
    "import matplotlib.pyplot as plt\n",
    "import seaborn as sns\n",
    "from sklearn.model_selection import train_test_split\n",
    "from sklearn.preprocessing import StandardScaler\n",
    "from sklearn.metrics import accuracy_score, confusion_matrix, classification_report\n",
    "from sklearn.ensemble import RandomForestClassifier\n",
    "\n",
    "from sklearn.model_selection import train_test_split\n",
    "\n",
    "from sklearn.linear_model import LogisticRegression\n",
    "from sklearn.metrics import accuracy_score, classification_report\n",
    "\n",
    "from sklearn.ensemble import RandomForestClassifier\n",
    "\n",
    "from sklearn.svm import SVC\n",
    "\n",
    "from sklearn.tree import plot_tree\n",
    "from sklearn.metrics import confusion_matrix, ConfusionMatrixDisplay\n",
    "from sklearn.metrics import accuracy_score, precision_score, recall_score, f1_score\n",
    "\n",
    "from sklearn.model_selection import GridSearchCV\n",
    "from sklearn.metrics import accuracy_score, classification_report, roc_auc_score, roc_curve, auc, confusion_matrix"
   ]
  },
  {
   "cell_type": "code",
   "execution_count": 2,
   "id": "28902552",
   "metadata": {},
   "outputs": [],
   "source": [
    "dataset_path = dataset_path = '../../dataset/google_review_ratings.csv'   \n",
    "data = pd.read_csv(dataset_path)"
   ]
  },
  {
   "cell_type": "code",
   "execution_count": 3,
   "id": "3cda9db7",
   "metadata": {},
   "outputs": [
    {
     "data": {
      "text/html": [
       "<div>\n",
       "<style scoped>\n",
       "    .dataframe tbody tr th:only-of-type {\n",
       "        vertical-align: middle;\n",
       "    }\n",
       "\n",
       "    .dataframe tbody tr th {\n",
       "        vertical-align: top;\n",
       "    }\n",
       "\n",
       "    .dataframe thead th {\n",
       "        text-align: right;\n",
       "    }\n",
       "</style>\n",
       "<table border=\"1\" class=\"dataframe\">\n",
       "  <thead>\n",
       "    <tr style=\"text-align: right;\">\n",
       "      <th></th>\n",
       "      <th>User</th>\n",
       "      <th>Category 1</th>\n",
       "      <th>Category 2</th>\n",
       "      <th>Category 3</th>\n",
       "      <th>Category 4</th>\n",
       "      <th>Category 5</th>\n",
       "      <th>Category 6</th>\n",
       "      <th>Category 7</th>\n",
       "      <th>Category 8</th>\n",
       "      <th>Category 9</th>\n",
       "      <th>...</th>\n",
       "      <th>Category 16</th>\n",
       "      <th>Category 17</th>\n",
       "      <th>Category 18</th>\n",
       "      <th>Category 19</th>\n",
       "      <th>Category 20</th>\n",
       "      <th>Category 21</th>\n",
       "      <th>Category 22</th>\n",
       "      <th>Category 23</th>\n",
       "      <th>Category 24</th>\n",
       "      <th>Unnamed: 25</th>\n",
       "    </tr>\n",
       "  </thead>\n",
       "  <tbody>\n",
       "    <tr>\n",
       "      <th>0</th>\n",
       "      <td>User 1</td>\n",
       "      <td>0.00</td>\n",
       "      <td>0.00</td>\n",
       "      <td>3.63</td>\n",
       "      <td>3.65</td>\n",
       "      <td>5.00</td>\n",
       "      <td>2.92</td>\n",
       "      <td>5.00</td>\n",
       "      <td>2.35</td>\n",
       "      <td>2.33</td>\n",
       "      <td>...</td>\n",
       "      <td>0.59</td>\n",
       "      <td>0.50</td>\n",
       "      <td>0.00</td>\n",
       "      <td>0.50</td>\n",
       "      <td>0.00</td>\n",
       "      <td>0.00</td>\n",
       "      <td>0.0</td>\n",
       "      <td>0.0</td>\n",
       "      <td>0.00</td>\n",
       "      <td>NaN</td>\n",
       "    </tr>\n",
       "    <tr>\n",
       "      <th>1</th>\n",
       "      <td>User 2</td>\n",
       "      <td>0.00</td>\n",
       "      <td>0.00</td>\n",
       "      <td>3.63</td>\n",
       "      <td>3.65</td>\n",
       "      <td>5.00</td>\n",
       "      <td>2.92</td>\n",
       "      <td>5.00</td>\n",
       "      <td>2.64</td>\n",
       "      <td>2.33</td>\n",
       "      <td>...</td>\n",
       "      <td>0.59</td>\n",
       "      <td>0.50</td>\n",
       "      <td>0.00</td>\n",
       "      <td>0.50</td>\n",
       "      <td>0.00</td>\n",
       "      <td>0.00</td>\n",
       "      <td>0.0</td>\n",
       "      <td>0.0</td>\n",
       "      <td>0.00</td>\n",
       "      <td>NaN</td>\n",
       "    </tr>\n",
       "    <tr>\n",
       "      <th>2</th>\n",
       "      <td>User 3</td>\n",
       "      <td>0.00</td>\n",
       "      <td>0.00</td>\n",
       "      <td>3.63</td>\n",
       "      <td>3.63</td>\n",
       "      <td>5.00</td>\n",
       "      <td>2.92</td>\n",
       "      <td>5.00</td>\n",
       "      <td>2.64</td>\n",
       "      <td>2.33</td>\n",
       "      <td>...</td>\n",
       "      <td>0.59</td>\n",
       "      <td>0.50</td>\n",
       "      <td>0.00</td>\n",
       "      <td>0.50</td>\n",
       "      <td>0.00</td>\n",
       "      <td>0.00</td>\n",
       "      <td>0.0</td>\n",
       "      <td>0.0</td>\n",
       "      <td>0.00</td>\n",
       "      <td>NaN</td>\n",
       "    </tr>\n",
       "    <tr>\n",
       "      <th>3</th>\n",
       "      <td>User 4</td>\n",
       "      <td>0.00</td>\n",
       "      <td>0.50</td>\n",
       "      <td>3.63</td>\n",
       "      <td>3.63</td>\n",
       "      <td>5.00</td>\n",
       "      <td>2.92</td>\n",
       "      <td>5.00</td>\n",
       "      <td>2.35</td>\n",
       "      <td>2.33</td>\n",
       "      <td>...</td>\n",
       "      <td>0.59</td>\n",
       "      <td>0.50</td>\n",
       "      <td>0.00</td>\n",
       "      <td>0.50</td>\n",
       "      <td>0.00</td>\n",
       "      <td>0.00</td>\n",
       "      <td>0.0</td>\n",
       "      <td>0.0</td>\n",
       "      <td>0.00</td>\n",
       "      <td>NaN</td>\n",
       "    </tr>\n",
       "    <tr>\n",
       "      <th>4</th>\n",
       "      <td>User 5</td>\n",
       "      <td>0.00</td>\n",
       "      <td>0.00</td>\n",
       "      <td>3.63</td>\n",
       "      <td>3.63</td>\n",
       "      <td>5.00</td>\n",
       "      <td>2.92</td>\n",
       "      <td>5.00</td>\n",
       "      <td>2.64</td>\n",
       "      <td>2.33</td>\n",
       "      <td>...</td>\n",
       "      <td>0.59</td>\n",
       "      <td>0.50</td>\n",
       "      <td>0.00</td>\n",
       "      <td>0.50</td>\n",
       "      <td>0.00</td>\n",
       "      <td>0.00</td>\n",
       "      <td>0.0</td>\n",
       "      <td>0.0</td>\n",
       "      <td>0.00</td>\n",
       "      <td>NaN</td>\n",
       "    </tr>\n",
       "    <tr>\n",
       "      <th>...</th>\n",
       "      <td>...</td>\n",
       "      <td>...</td>\n",
       "      <td>...</td>\n",
       "      <td>...</td>\n",
       "      <td>...</td>\n",
       "      <td>...</td>\n",
       "      <td>...</td>\n",
       "      <td>...</td>\n",
       "      <td>...</td>\n",
       "      <td>...</td>\n",
       "      <td>...</td>\n",
       "      <td>...</td>\n",
       "      <td>...</td>\n",
       "      <td>...</td>\n",
       "      <td>...</td>\n",
       "      <td>...</td>\n",
       "      <td>...</td>\n",
       "      <td>...</td>\n",
       "      <td>...</td>\n",
       "      <td>...</td>\n",
       "      <td>...</td>\n",
       "    </tr>\n",
       "    <tr>\n",
       "      <th>5451</th>\n",
       "      <td>User 5452</td>\n",
       "      <td>0.91</td>\n",
       "      <td>5.00</td>\n",
       "      <td>4.00</td>\n",
       "      <td>2.79</td>\n",
       "      <td>2.77</td>\n",
       "      <td>2.57</td>\n",
       "      <td>2.43</td>\n",
       "      <td>1.09</td>\n",
       "      <td>1.77</td>\n",
       "      <td>...</td>\n",
       "      <td>0.66</td>\n",
       "      <td>0.65</td>\n",
       "      <td>0.66</td>\n",
       "      <td>0.69</td>\n",
       "      <td>5.00</td>\n",
       "      <td>1.05</td>\n",
       "      <td>5.0</td>\n",
       "      <td>5.0</td>\n",
       "      <td>1.56</td>\n",
       "      <td>NaN</td>\n",
       "    </tr>\n",
       "    <tr>\n",
       "      <th>5452</th>\n",
       "      <td>User 5453</td>\n",
       "      <td>0.93</td>\n",
       "      <td>5.00</td>\n",
       "      <td>4.02</td>\n",
       "      <td>2.79</td>\n",
       "      <td>2.78</td>\n",
       "      <td>2.57</td>\n",
       "      <td>1.77</td>\n",
       "      <td>1.07</td>\n",
       "      <td>1.76</td>\n",
       "      <td>...</td>\n",
       "      <td>0.65</td>\n",
       "      <td>0.64</td>\n",
       "      <td>0.65</td>\n",
       "      <td>1.59</td>\n",
       "      <td>1.62</td>\n",
       "      <td>1.06</td>\n",
       "      <td>5.0</td>\n",
       "      <td>5.0</td>\n",
       "      <td>1.09</td>\n",
       "      <td>NaN</td>\n",
       "    </tr>\n",
       "    <tr>\n",
       "      <th>5453</th>\n",
       "      <td>User 5454</td>\n",
       "      <td>0.94</td>\n",
       "      <td>5.00</td>\n",
       "      <td>4.03</td>\n",
       "      <td>2.80</td>\n",
       "      <td>2.78</td>\n",
       "      <td>2.57</td>\n",
       "      <td>1.75</td>\n",
       "      <td>1.05</td>\n",
       "      <td>1.75</td>\n",
       "      <td>...</td>\n",
       "      <td>0.65</td>\n",
       "      <td>0.63</td>\n",
       "      <td>0.64</td>\n",
       "      <td>0.74</td>\n",
       "      <td>5.00</td>\n",
       "      <td>1.07</td>\n",
       "      <td>5.0</td>\n",
       "      <td>5.0</td>\n",
       "      <td>1.11</td>\n",
       "      <td>NaN</td>\n",
       "    </tr>\n",
       "    <tr>\n",
       "      <th>5454</th>\n",
       "      <td>User 5455</td>\n",
       "      <td>0.95</td>\n",
       "      <td>4.05</td>\n",
       "      <td>4.05</td>\n",
       "      <td>2.81</td>\n",
       "      <td>2.79</td>\n",
       "      <td>2.44</td>\n",
       "      <td>1.76</td>\n",
       "      <td>1.03</td>\n",
       "      <td>1.74</td>\n",
       "      <td>...</td>\n",
       "      <td>0.64</td>\n",
       "      <td>0.63</td>\n",
       "      <td>0.64</td>\n",
       "      <td>0.75</td>\n",
       "      <td>5.00</td>\n",
       "      <td>1.08</td>\n",
       "      <td>5.0</td>\n",
       "      <td>5.0</td>\n",
       "      <td>1.12</td>\n",
       "      <td>NaN</td>\n",
       "    </tr>\n",
       "    <tr>\n",
       "      <th>5455</th>\n",
       "      <td>User 5456</td>\n",
       "      <td>0.95</td>\n",
       "      <td>4.07</td>\n",
       "      <td>5.00</td>\n",
       "      <td>2.82</td>\n",
       "      <td>2.80</td>\n",
       "      <td>2.57</td>\n",
       "      <td>2.42</td>\n",
       "      <td>1.02</td>\n",
       "      <td>1.74</td>\n",
       "      <td>...</td>\n",
       "      <td>0.64</td>\n",
       "      <td>0.62</td>\n",
       "      <td>0.63</td>\n",
       "      <td>0.78</td>\n",
       "      <td>5.00</td>\n",
       "      <td>1.08</td>\n",
       "      <td>5.0</td>\n",
       "      <td>5.0</td>\n",
       "      <td>1.17</td>\n",
       "      <td>NaN</td>\n",
       "    </tr>\n",
       "  </tbody>\n",
       "</table>\n",
       "<p>5456 rows × 26 columns</p>\n",
       "</div>"
      ],
      "text/plain": [
       "           User  Category 1  Category 2  Category 3  Category 4  Category 5  \\\n",
       "0        User 1        0.00        0.00        3.63        3.65        5.00   \n",
       "1        User 2        0.00        0.00        3.63        3.65        5.00   \n",
       "2        User 3        0.00        0.00        3.63        3.63        5.00   \n",
       "3        User 4        0.00        0.50        3.63        3.63        5.00   \n",
       "4        User 5        0.00        0.00        3.63        3.63        5.00   \n",
       "...         ...         ...         ...         ...         ...         ...   \n",
       "5451  User 5452        0.91        5.00        4.00        2.79        2.77   \n",
       "5452  User 5453        0.93        5.00        4.02        2.79        2.78   \n",
       "5453  User 5454        0.94        5.00        4.03        2.80        2.78   \n",
       "5454  User 5455        0.95        4.05        4.05        2.81        2.79   \n",
       "5455  User 5456        0.95        4.07        5.00        2.82        2.80   \n",
       "\n",
       "      Category 6  Category 7  Category 8  Category 9  ...  Category 16  \\\n",
       "0           2.92        5.00        2.35        2.33  ...         0.59   \n",
       "1           2.92        5.00        2.64        2.33  ...         0.59   \n",
       "2           2.92        5.00        2.64        2.33  ...         0.59   \n",
       "3           2.92        5.00        2.35        2.33  ...         0.59   \n",
       "4           2.92        5.00        2.64        2.33  ...         0.59   \n",
       "...          ...         ...         ...         ...  ...          ...   \n",
       "5451        2.57        2.43        1.09        1.77  ...         0.66   \n",
       "5452        2.57        1.77        1.07        1.76  ...         0.65   \n",
       "5453        2.57        1.75        1.05        1.75  ...         0.65   \n",
       "5454        2.44        1.76        1.03        1.74  ...         0.64   \n",
       "5455        2.57        2.42        1.02        1.74  ...         0.64   \n",
       "\n",
       "     Category 17  Category 18  Category 19  Category 20  Category 21  \\\n",
       "0           0.50         0.00         0.50         0.00         0.00   \n",
       "1           0.50         0.00         0.50         0.00         0.00   \n",
       "2           0.50         0.00         0.50         0.00         0.00   \n",
       "3           0.50         0.00         0.50         0.00         0.00   \n",
       "4           0.50         0.00         0.50         0.00         0.00   \n",
       "...          ...          ...          ...          ...          ...   \n",
       "5451        0.65         0.66         0.69         5.00         1.05   \n",
       "5452        0.64         0.65         1.59         1.62         1.06   \n",
       "5453        0.63         0.64         0.74         5.00         1.07   \n",
       "5454        0.63         0.64         0.75         5.00         1.08   \n",
       "5455        0.62         0.63         0.78         5.00         1.08   \n",
       "\n",
       "      Category 22  Category 23  Category 24  Unnamed: 25  \n",
       "0             0.0          0.0         0.00          NaN  \n",
       "1             0.0          0.0         0.00          NaN  \n",
       "2             0.0          0.0         0.00          NaN  \n",
       "3             0.0          0.0         0.00          NaN  \n",
       "4             0.0          0.0         0.00          NaN  \n",
       "...           ...          ...          ...          ...  \n",
       "5451          5.0          5.0         1.56          NaN  \n",
       "5452          5.0          5.0         1.09          NaN  \n",
       "5453          5.0          5.0         1.11          NaN  \n",
       "5454          5.0          5.0         1.12          NaN  \n",
       "5455          5.0          5.0         1.17          NaN  \n",
       "\n",
       "[5456 rows x 26 columns]"
      ]
     },
     "execution_count": 3,
     "metadata": {},
     "output_type": "execute_result"
    }
   ],
   "source": [
    "data"
   ]
  },
  {
   "cell_type": "code",
   "execution_count": 4,
   "id": "d284d0c4",
   "metadata": {},
   "outputs": [
    {
     "data": {
      "text/plain": [
       "(5456, 26)"
      ]
     },
     "execution_count": 4,
     "metadata": {},
     "output_type": "execute_result"
    }
   ],
   "source": [
    "data.shape"
   ]
  },
  {
   "cell_type": "code",
   "execution_count": 5,
   "id": "cd093250",
   "metadata": {},
   "outputs": [
    {
     "name": "stdout",
     "output_type": "stream",
     "text": [
      "Category 1     float64\n",
      "Category 2     float64\n",
      "Category 3     float64\n",
      "Category 4     float64\n",
      "Category 5     float64\n",
      "Category 6     float64\n",
      "Category 7     float64\n",
      "Category 8     float64\n",
      "Category 9     float64\n",
      "Category 10    float64\n",
      "Category 11    float64\n",
      "Category 12    float64\n",
      "Category 13    float64\n",
      "Category 14    float64\n",
      "Category 15    float64\n",
      "Category 16    float64\n",
      "Category 17    float64\n",
      "Category 18    float64\n",
      "Category 19    float64\n",
      "Category 20    float64\n",
      "Category 21    float64\n",
      "Category 22    float64\n",
      "Category 23    float64\n",
      "Category 24    float64\n",
      "Unnamed: 25    float64\n",
      "dtype: object\n"
     ]
    }
   ],
   "source": [
    "# Konvertovanje svih kolona sa ocenama u numeričke vrednosti (float)\n",
    "rating_columns = data.columns[1:]\n",
    "data[rating_columns] = data[rating_columns].apply(pd.to_numeric, errors='coerce')\n",
    "\n",
    "print(data[rating_columns].dtypes)"
   ]
  },
  {
   "cell_type": "code",
   "execution_count": 6,
   "id": "09aaf4b0",
   "metadata": {},
   "outputs": [
    {
     "data": {
      "text/html": [
       "<div>\n",
       "<style scoped>\n",
       "    .dataframe tbody tr th:only-of-type {\n",
       "        vertical-align: middle;\n",
       "    }\n",
       "\n",
       "    .dataframe tbody tr th {\n",
       "        vertical-align: top;\n",
       "    }\n",
       "\n",
       "    .dataframe thead th {\n",
       "        text-align: right;\n",
       "    }\n",
       "</style>\n",
       "<table border=\"1\" class=\"dataframe\">\n",
       "  <thead>\n",
       "    <tr style=\"text-align: right;\">\n",
       "      <th></th>\n",
       "      <th>User</th>\n",
       "      <th>Category 1</th>\n",
       "      <th>Category 2</th>\n",
       "      <th>Category 3</th>\n",
       "      <th>Category 4</th>\n",
       "      <th>Category 5</th>\n",
       "      <th>Category 6</th>\n",
       "      <th>Category 7</th>\n",
       "      <th>Category 8</th>\n",
       "      <th>Category 9</th>\n",
       "      <th>...</th>\n",
       "      <th>Category 16</th>\n",
       "      <th>Category 17</th>\n",
       "      <th>Category 18</th>\n",
       "      <th>Category 19</th>\n",
       "      <th>Category 20</th>\n",
       "      <th>Category 21</th>\n",
       "      <th>Category 22</th>\n",
       "      <th>Category 23</th>\n",
       "      <th>Category 24</th>\n",
       "      <th>Unnamed: 25</th>\n",
       "    </tr>\n",
       "  </thead>\n",
       "  <tbody>\n",
       "    <tr>\n",
       "      <th>0</th>\n",
       "      <td>User 1</td>\n",
       "      <td>0.00</td>\n",
       "      <td>0.00</td>\n",
       "      <td>3.63</td>\n",
       "      <td>3.65</td>\n",
       "      <td>5.00</td>\n",
       "      <td>2.92</td>\n",
       "      <td>5.00</td>\n",
       "      <td>2.35</td>\n",
       "      <td>2.33</td>\n",
       "      <td>...</td>\n",
       "      <td>0.59</td>\n",
       "      <td>0.50</td>\n",
       "      <td>0.00</td>\n",
       "      <td>0.50</td>\n",
       "      <td>0.00</td>\n",
       "      <td>0.00</td>\n",
       "      <td>0.0</td>\n",
       "      <td>0.0</td>\n",
       "      <td>0.00</td>\n",
       "      <td>NaN</td>\n",
       "    </tr>\n",
       "    <tr>\n",
       "      <th>1</th>\n",
       "      <td>User 2</td>\n",
       "      <td>0.00</td>\n",
       "      <td>0.00</td>\n",
       "      <td>3.63</td>\n",
       "      <td>3.65</td>\n",
       "      <td>5.00</td>\n",
       "      <td>2.92</td>\n",
       "      <td>5.00</td>\n",
       "      <td>2.64</td>\n",
       "      <td>2.33</td>\n",
       "      <td>...</td>\n",
       "      <td>0.59</td>\n",
       "      <td>0.50</td>\n",
       "      <td>0.00</td>\n",
       "      <td>0.50</td>\n",
       "      <td>0.00</td>\n",
       "      <td>0.00</td>\n",
       "      <td>0.0</td>\n",
       "      <td>0.0</td>\n",
       "      <td>0.00</td>\n",
       "      <td>NaN</td>\n",
       "    </tr>\n",
       "    <tr>\n",
       "      <th>2</th>\n",
       "      <td>User 3</td>\n",
       "      <td>0.00</td>\n",
       "      <td>0.00</td>\n",
       "      <td>3.63</td>\n",
       "      <td>3.63</td>\n",
       "      <td>5.00</td>\n",
       "      <td>2.92</td>\n",
       "      <td>5.00</td>\n",
       "      <td>2.64</td>\n",
       "      <td>2.33</td>\n",
       "      <td>...</td>\n",
       "      <td>0.59</td>\n",
       "      <td>0.50</td>\n",
       "      <td>0.00</td>\n",
       "      <td>0.50</td>\n",
       "      <td>0.00</td>\n",
       "      <td>0.00</td>\n",
       "      <td>0.0</td>\n",
       "      <td>0.0</td>\n",
       "      <td>0.00</td>\n",
       "      <td>NaN</td>\n",
       "    </tr>\n",
       "    <tr>\n",
       "      <th>3</th>\n",
       "      <td>User 4</td>\n",
       "      <td>0.00</td>\n",
       "      <td>0.50</td>\n",
       "      <td>3.63</td>\n",
       "      <td>3.63</td>\n",
       "      <td>5.00</td>\n",
       "      <td>2.92</td>\n",
       "      <td>5.00</td>\n",
       "      <td>2.35</td>\n",
       "      <td>2.33</td>\n",
       "      <td>...</td>\n",
       "      <td>0.59</td>\n",
       "      <td>0.50</td>\n",
       "      <td>0.00</td>\n",
       "      <td>0.50</td>\n",
       "      <td>0.00</td>\n",
       "      <td>0.00</td>\n",
       "      <td>0.0</td>\n",
       "      <td>0.0</td>\n",
       "      <td>0.00</td>\n",
       "      <td>NaN</td>\n",
       "    </tr>\n",
       "    <tr>\n",
       "      <th>4</th>\n",
       "      <td>User 5</td>\n",
       "      <td>0.00</td>\n",
       "      <td>0.00</td>\n",
       "      <td>3.63</td>\n",
       "      <td>3.63</td>\n",
       "      <td>5.00</td>\n",
       "      <td>2.92</td>\n",
       "      <td>5.00</td>\n",
       "      <td>2.64</td>\n",
       "      <td>2.33</td>\n",
       "      <td>...</td>\n",
       "      <td>0.59</td>\n",
       "      <td>0.50</td>\n",
       "      <td>0.00</td>\n",
       "      <td>0.50</td>\n",
       "      <td>0.00</td>\n",
       "      <td>0.00</td>\n",
       "      <td>0.0</td>\n",
       "      <td>0.0</td>\n",
       "      <td>0.00</td>\n",
       "      <td>NaN</td>\n",
       "    </tr>\n",
       "    <tr>\n",
       "      <th>...</th>\n",
       "      <td>...</td>\n",
       "      <td>...</td>\n",
       "      <td>...</td>\n",
       "      <td>...</td>\n",
       "      <td>...</td>\n",
       "      <td>...</td>\n",
       "      <td>...</td>\n",
       "      <td>...</td>\n",
       "      <td>...</td>\n",
       "      <td>...</td>\n",
       "      <td>...</td>\n",
       "      <td>...</td>\n",
       "      <td>...</td>\n",
       "      <td>...</td>\n",
       "      <td>...</td>\n",
       "      <td>...</td>\n",
       "      <td>...</td>\n",
       "      <td>...</td>\n",
       "      <td>...</td>\n",
       "      <td>...</td>\n",
       "      <td>...</td>\n",
       "    </tr>\n",
       "    <tr>\n",
       "      <th>5451</th>\n",
       "      <td>User 5452</td>\n",
       "      <td>0.91</td>\n",
       "      <td>5.00</td>\n",
       "      <td>4.00</td>\n",
       "      <td>2.79</td>\n",
       "      <td>2.77</td>\n",
       "      <td>2.57</td>\n",
       "      <td>2.43</td>\n",
       "      <td>1.09</td>\n",
       "      <td>1.77</td>\n",
       "      <td>...</td>\n",
       "      <td>0.66</td>\n",
       "      <td>0.65</td>\n",
       "      <td>0.66</td>\n",
       "      <td>0.69</td>\n",
       "      <td>5.00</td>\n",
       "      <td>1.05</td>\n",
       "      <td>5.0</td>\n",
       "      <td>5.0</td>\n",
       "      <td>1.56</td>\n",
       "      <td>NaN</td>\n",
       "    </tr>\n",
       "    <tr>\n",
       "      <th>5452</th>\n",
       "      <td>User 5453</td>\n",
       "      <td>0.93</td>\n",
       "      <td>5.00</td>\n",
       "      <td>4.02</td>\n",
       "      <td>2.79</td>\n",
       "      <td>2.78</td>\n",
       "      <td>2.57</td>\n",
       "      <td>1.77</td>\n",
       "      <td>1.07</td>\n",
       "      <td>1.76</td>\n",
       "      <td>...</td>\n",
       "      <td>0.65</td>\n",
       "      <td>0.64</td>\n",
       "      <td>0.65</td>\n",
       "      <td>1.59</td>\n",
       "      <td>1.62</td>\n",
       "      <td>1.06</td>\n",
       "      <td>5.0</td>\n",
       "      <td>5.0</td>\n",
       "      <td>1.09</td>\n",
       "      <td>NaN</td>\n",
       "    </tr>\n",
       "    <tr>\n",
       "      <th>5453</th>\n",
       "      <td>User 5454</td>\n",
       "      <td>0.94</td>\n",
       "      <td>5.00</td>\n",
       "      <td>4.03</td>\n",
       "      <td>2.80</td>\n",
       "      <td>2.78</td>\n",
       "      <td>2.57</td>\n",
       "      <td>1.75</td>\n",
       "      <td>1.05</td>\n",
       "      <td>1.75</td>\n",
       "      <td>...</td>\n",
       "      <td>0.65</td>\n",
       "      <td>0.63</td>\n",
       "      <td>0.64</td>\n",
       "      <td>0.74</td>\n",
       "      <td>5.00</td>\n",
       "      <td>1.07</td>\n",
       "      <td>5.0</td>\n",
       "      <td>5.0</td>\n",
       "      <td>1.11</td>\n",
       "      <td>NaN</td>\n",
       "    </tr>\n",
       "    <tr>\n",
       "      <th>5454</th>\n",
       "      <td>User 5455</td>\n",
       "      <td>0.95</td>\n",
       "      <td>4.05</td>\n",
       "      <td>4.05</td>\n",
       "      <td>2.81</td>\n",
       "      <td>2.79</td>\n",
       "      <td>2.44</td>\n",
       "      <td>1.76</td>\n",
       "      <td>1.03</td>\n",
       "      <td>1.74</td>\n",
       "      <td>...</td>\n",
       "      <td>0.64</td>\n",
       "      <td>0.63</td>\n",
       "      <td>0.64</td>\n",
       "      <td>0.75</td>\n",
       "      <td>5.00</td>\n",
       "      <td>1.08</td>\n",
       "      <td>5.0</td>\n",
       "      <td>5.0</td>\n",
       "      <td>1.12</td>\n",
       "      <td>NaN</td>\n",
       "    </tr>\n",
       "    <tr>\n",
       "      <th>5455</th>\n",
       "      <td>User 5456</td>\n",
       "      <td>0.95</td>\n",
       "      <td>4.07</td>\n",
       "      <td>5.00</td>\n",
       "      <td>2.82</td>\n",
       "      <td>2.80</td>\n",
       "      <td>2.57</td>\n",
       "      <td>2.42</td>\n",
       "      <td>1.02</td>\n",
       "      <td>1.74</td>\n",
       "      <td>...</td>\n",
       "      <td>0.64</td>\n",
       "      <td>0.62</td>\n",
       "      <td>0.63</td>\n",
       "      <td>0.78</td>\n",
       "      <td>5.00</td>\n",
       "      <td>1.08</td>\n",
       "      <td>5.0</td>\n",
       "      <td>5.0</td>\n",
       "      <td>1.17</td>\n",
       "      <td>NaN</td>\n",
       "    </tr>\n",
       "  </tbody>\n",
       "</table>\n",
       "<p>5456 rows × 26 columns</p>\n",
       "</div>"
      ],
      "text/plain": [
       "           User  Category 1  Category 2  Category 3  Category 4  Category 5  \\\n",
       "0        User 1        0.00        0.00        3.63        3.65        5.00   \n",
       "1        User 2        0.00        0.00        3.63        3.65        5.00   \n",
       "2        User 3        0.00        0.00        3.63        3.63        5.00   \n",
       "3        User 4        0.00        0.50        3.63        3.63        5.00   \n",
       "4        User 5        0.00        0.00        3.63        3.63        5.00   \n",
       "...         ...         ...         ...         ...         ...         ...   \n",
       "5451  User 5452        0.91        5.00        4.00        2.79        2.77   \n",
       "5452  User 5453        0.93        5.00        4.02        2.79        2.78   \n",
       "5453  User 5454        0.94        5.00        4.03        2.80        2.78   \n",
       "5454  User 5455        0.95        4.05        4.05        2.81        2.79   \n",
       "5455  User 5456        0.95        4.07        5.00        2.82        2.80   \n",
       "\n",
       "      Category 6  Category 7  Category 8  Category 9  ...  Category 16  \\\n",
       "0           2.92        5.00        2.35        2.33  ...         0.59   \n",
       "1           2.92        5.00        2.64        2.33  ...         0.59   \n",
       "2           2.92        5.00        2.64        2.33  ...         0.59   \n",
       "3           2.92        5.00        2.35        2.33  ...         0.59   \n",
       "4           2.92        5.00        2.64        2.33  ...         0.59   \n",
       "...          ...         ...         ...         ...  ...          ...   \n",
       "5451        2.57        2.43        1.09        1.77  ...         0.66   \n",
       "5452        2.57        1.77        1.07        1.76  ...         0.65   \n",
       "5453        2.57        1.75        1.05        1.75  ...         0.65   \n",
       "5454        2.44        1.76        1.03        1.74  ...         0.64   \n",
       "5455        2.57        2.42        1.02        1.74  ...         0.64   \n",
       "\n",
       "      Category 17  Category 18  Category 19  Category 20  Category 21  \\\n",
       "0            0.50         0.00         0.50         0.00         0.00   \n",
       "1            0.50         0.00         0.50         0.00         0.00   \n",
       "2            0.50         0.00         0.50         0.00         0.00   \n",
       "3            0.50         0.00         0.50         0.00         0.00   \n",
       "4            0.50         0.00         0.50         0.00         0.00   \n",
       "...           ...          ...          ...          ...          ...   \n",
       "5451         0.65         0.66         0.69         5.00         1.05   \n",
       "5452         0.64         0.65         1.59         1.62         1.06   \n",
       "5453         0.63         0.64         0.74         5.00         1.07   \n",
       "5454         0.63         0.64         0.75         5.00         1.08   \n",
       "5455         0.62         0.63         0.78         5.00         1.08   \n",
       "\n",
       "      Category 22  Category 23  Category 24  Unnamed: 25  \n",
       "0             0.0          0.0         0.00          NaN  \n",
       "1             0.0          0.0         0.00          NaN  \n",
       "2             0.0          0.0         0.00          NaN  \n",
       "3             0.0          0.0         0.00          NaN  \n",
       "4             0.0          0.0         0.00          NaN  \n",
       "...           ...          ...          ...          ...  \n",
       "5451          5.0          5.0         1.56          NaN  \n",
       "5452          5.0          5.0         1.09          NaN  \n",
       "5453          5.0          5.0         1.11          NaN  \n",
       "5454          5.0          5.0         1.12          NaN  \n",
       "5455          5.0          5.0         1.17          NaN  \n",
       "\n",
       "[5456 rows x 26 columns]"
      ]
     },
     "execution_count": 6,
     "metadata": {},
     "output_type": "execute_result"
    }
   ],
   "source": [
    "data"
   ]
  },
  {
   "cell_type": "code",
   "execution_count": 7,
   "id": "6532955c",
   "metadata": {},
   "outputs": [],
   "source": [
    "#Drop-ujem kolone User i Unnamed\n",
    "data = data.drop('User', axis=1) \n",
    "data = data.drop('Unnamed: 25', axis = 1)"
   ]
  },
  {
   "cell_type": "code",
   "execution_count": 8,
   "id": "abec7ceb",
   "metadata": {},
   "outputs": [
    {
     "name": "stdout",
     "output_type": "stream",
     "text": [
      "Index(['AverageRatingsChurches', 'AverageRatingsResorts',\n",
      "       'AverageRatingsBeaches', 'AverageRatingsParks',\n",
      "       'AverageRatingsTheatres', 'AverageRatingsMuseums',\n",
      "       'AverageRatingsMalls', 'AverageRatingsZoo', 'AverageRatingsRestaurants',\n",
      "       'AverageRatingsPubsBars', 'AverageRatingsLocalServices',\n",
      "       'AverageRatingsBurgerPizzaShops', 'AverageRatingsHotelsLodgings',\n",
      "       'AverageRatingsJuiceBars', 'AverageRatingsArtGalleries',\n",
      "       'AverageRatingsDanceClubs', 'AverageRatingsSwimmingPools',\n",
      "       'AverageRatingsGyms', 'AverageRatingsBakeries',\n",
      "       'AverageRatingsBeautySpas', 'AverageRatingsCafes',\n",
      "       'AverageRatingsViewPoints', 'AverageRatingsMonuments',\n",
      "       'AverageRatingsGardens'],\n",
      "      dtype='object')\n"
     ]
    }
   ],
   "source": [
    "#preimenovanje kolona\n",
    "new_column_names = {\n",
    "    'Category 1': 'AverageRatingsChurches',\n",
    "    'Category 2': 'AverageRatingsResorts',\n",
    "    'Category 3': 'AverageRatingsBeaches',\n",
    "    'Category 4': 'AverageRatingsParks',\n",
    "    'Category 5': 'AverageRatingsTheatres',\n",
    "    'Category 6': 'AverageRatingsMuseums',\n",
    "    'Category 7': 'AverageRatingsMalls',\n",
    "    'Category 8': 'AverageRatingsZoo',\n",
    "    'Category 9': 'AverageRatingsRestaurants',\n",
    "    'Category 10': 'AverageRatingsPubsBars',\n",
    "    'Category 11': 'AverageRatingsLocalServices',\n",
    "    'Category 12': 'AverageRatingsBurgerPizzaShops',\n",
    "    'Category 13': 'AverageRatingsHotelsLodgings',\n",
    "    'Category 14': 'AverageRatingsJuiceBars',\n",
    "    'Category 15': 'AverageRatingsArtGalleries',\n",
    "    'Category 16': 'AverageRatingsDanceClubs',\n",
    "    'Category 17': 'AverageRatingsSwimmingPools',\n",
    "    'Category 18': 'AverageRatingsGyms',\n",
    "    'Category 19': 'AverageRatingsBakeries',\n",
    "    'Category 20': 'AverageRatingsBeautySpas',\n",
    "    'Category 21': 'AverageRatingsCafes',\n",
    "    'Category 22': 'AverageRatingsViewPoints',\n",
    "    'Category 23': 'AverageRatingsMonuments',\n",
    "    'Category 24': 'AverageRatingsGardens'\n",
    "}\n",
    "\n",
    "data.rename(columns=new_column_names, inplace=True)\n",
    "\n",
    "print(data.columns)"
   ]
  },
  {
   "cell_type": "code",
   "execution_count": 9,
   "id": "1fe2f108",
   "metadata": {},
   "outputs": [
    {
     "data": {
      "text/html": [
       "<div>\n",
       "<style scoped>\n",
       "    .dataframe tbody tr th:only-of-type {\n",
       "        vertical-align: middle;\n",
       "    }\n",
       "\n",
       "    .dataframe tbody tr th {\n",
       "        vertical-align: top;\n",
       "    }\n",
       "\n",
       "    .dataframe thead th {\n",
       "        text-align: right;\n",
       "    }\n",
       "</style>\n",
       "<table border=\"1\" class=\"dataframe\">\n",
       "  <thead>\n",
       "    <tr style=\"text-align: right;\">\n",
       "      <th></th>\n",
       "      <th>AverageRatingsChurches</th>\n",
       "      <th>AverageRatingsResorts</th>\n",
       "      <th>AverageRatingsBeaches</th>\n",
       "      <th>AverageRatingsParks</th>\n",
       "      <th>AverageRatingsTheatres</th>\n",
       "      <th>AverageRatingsMuseums</th>\n",
       "      <th>AverageRatingsMalls</th>\n",
       "      <th>AverageRatingsZoo</th>\n",
       "      <th>AverageRatingsRestaurants</th>\n",
       "      <th>AverageRatingsPubsBars</th>\n",
       "      <th>...</th>\n",
       "      <th>AverageRatingsArtGalleries</th>\n",
       "      <th>AverageRatingsDanceClubs</th>\n",
       "      <th>AverageRatingsSwimmingPools</th>\n",
       "      <th>AverageRatingsGyms</th>\n",
       "      <th>AverageRatingsBakeries</th>\n",
       "      <th>AverageRatingsBeautySpas</th>\n",
       "      <th>AverageRatingsCafes</th>\n",
       "      <th>AverageRatingsViewPoints</th>\n",
       "      <th>AverageRatingsMonuments</th>\n",
       "      <th>AverageRatingsGardens</th>\n",
       "    </tr>\n",
       "  </thead>\n",
       "  <tbody>\n",
       "    <tr>\n",
       "      <th>count</th>\n",
       "      <td>5456.000000</td>\n",
       "      <td>5456.000000</td>\n",
       "      <td>5456.000000</td>\n",
       "      <td>5456.000000</td>\n",
       "      <td>5456.000000</td>\n",
       "      <td>5456.00000</td>\n",
       "      <td>5456.000000</td>\n",
       "      <td>5456.000000</td>\n",
       "      <td>5456.000000</td>\n",
       "      <td>5456.000000</td>\n",
       "      <td>...</td>\n",
       "      <td>5456.000000</td>\n",
       "      <td>5456.000000</td>\n",
       "      <td>5456.000000</td>\n",
       "      <td>5456.000000</td>\n",
       "      <td>5456.000000</td>\n",
       "      <td>5456.000000</td>\n",
       "      <td>5456.000000</td>\n",
       "      <td>5456.000000</td>\n",
       "      <td>5456.000000</td>\n",
       "      <td>5455.000000</td>\n",
       "    </tr>\n",
       "    <tr>\n",
       "      <th>mean</th>\n",
       "      <td>1.455720</td>\n",
       "      <td>2.319707</td>\n",
       "      <td>2.489331</td>\n",
       "      <td>2.796886</td>\n",
       "      <td>2.958941</td>\n",
       "      <td>2.89349</td>\n",
       "      <td>3.351395</td>\n",
       "      <td>2.540795</td>\n",
       "      <td>3.126019</td>\n",
       "      <td>2.832729</td>\n",
       "      <td>...</td>\n",
       "      <td>2.206573</td>\n",
       "      <td>1.192801</td>\n",
       "      <td>0.949203</td>\n",
       "      <td>0.822414</td>\n",
       "      <td>0.969811</td>\n",
       "      <td>1.000071</td>\n",
       "      <td>0.965838</td>\n",
       "      <td>1.750537</td>\n",
       "      <td>1.531453</td>\n",
       "      <td>1.560755</td>\n",
       "    </tr>\n",
       "    <tr>\n",
       "      <th>std</th>\n",
       "      <td>0.827604</td>\n",
       "      <td>1.421438</td>\n",
       "      <td>1.247815</td>\n",
       "      <td>1.309159</td>\n",
       "      <td>1.339056</td>\n",
       "      <td>1.28240</td>\n",
       "      <td>1.413492</td>\n",
       "      <td>1.111391</td>\n",
       "      <td>1.356802</td>\n",
       "      <td>1.307665</td>\n",
       "      <td>...</td>\n",
       "      <td>1.715961</td>\n",
       "      <td>1.107005</td>\n",
       "      <td>0.973536</td>\n",
       "      <td>0.947911</td>\n",
       "      <td>1.203972</td>\n",
       "      <td>1.193891</td>\n",
       "      <td>0.929853</td>\n",
       "      <td>1.598734</td>\n",
       "      <td>1.316889</td>\n",
       "      <td>1.171756</td>\n",
       "    </tr>\n",
       "    <tr>\n",
       "      <th>min</th>\n",
       "      <td>0.000000</td>\n",
       "      <td>0.000000</td>\n",
       "      <td>0.000000</td>\n",
       "      <td>0.830000</td>\n",
       "      <td>1.120000</td>\n",
       "      <td>1.11000</td>\n",
       "      <td>1.120000</td>\n",
       "      <td>0.860000</td>\n",
       "      <td>0.840000</td>\n",
       "      <td>0.810000</td>\n",
       "      <td>...</td>\n",
       "      <td>0.000000</td>\n",
       "      <td>0.000000</td>\n",
       "      <td>0.000000</td>\n",
       "      <td>0.000000</td>\n",
       "      <td>0.000000</td>\n",
       "      <td>0.000000</td>\n",
       "      <td>0.000000</td>\n",
       "      <td>0.000000</td>\n",
       "      <td>0.000000</td>\n",
       "      <td>0.000000</td>\n",
       "    </tr>\n",
       "    <tr>\n",
       "      <th>25%</th>\n",
       "      <td>0.920000</td>\n",
       "      <td>1.360000</td>\n",
       "      <td>1.540000</td>\n",
       "      <td>1.730000</td>\n",
       "      <td>1.770000</td>\n",
       "      <td>1.79000</td>\n",
       "      <td>1.930000</td>\n",
       "      <td>1.620000</td>\n",
       "      <td>1.800000</td>\n",
       "      <td>1.640000</td>\n",
       "      <td>...</td>\n",
       "      <td>0.860000</td>\n",
       "      <td>0.690000</td>\n",
       "      <td>0.580000</td>\n",
       "      <td>0.530000</td>\n",
       "      <td>0.520000</td>\n",
       "      <td>0.540000</td>\n",
       "      <td>0.570000</td>\n",
       "      <td>0.740000</td>\n",
       "      <td>0.790000</td>\n",
       "      <td>0.880000</td>\n",
       "    </tr>\n",
       "    <tr>\n",
       "      <th>50%</th>\n",
       "      <td>1.340000</td>\n",
       "      <td>1.905000</td>\n",
       "      <td>2.060000</td>\n",
       "      <td>2.460000</td>\n",
       "      <td>2.670000</td>\n",
       "      <td>2.68000</td>\n",
       "      <td>3.230000</td>\n",
       "      <td>2.170000</td>\n",
       "      <td>2.800000</td>\n",
       "      <td>2.680000</td>\n",
       "      <td>...</td>\n",
       "      <td>1.330000</td>\n",
       "      <td>0.800000</td>\n",
       "      <td>0.740000</td>\n",
       "      <td>0.690000</td>\n",
       "      <td>0.690000</td>\n",
       "      <td>0.690000</td>\n",
       "      <td>0.760000</td>\n",
       "      <td>1.030000</td>\n",
       "      <td>1.070000</td>\n",
       "      <td>1.290000</td>\n",
       "    </tr>\n",
       "    <tr>\n",
       "      <th>75%</th>\n",
       "      <td>1.810000</td>\n",
       "      <td>2.682500</td>\n",
       "      <td>2.740000</td>\n",
       "      <td>4.092500</td>\n",
       "      <td>4.312500</td>\n",
       "      <td>3.84000</td>\n",
       "      <td>5.000000</td>\n",
       "      <td>3.190000</td>\n",
       "      <td>5.000000</td>\n",
       "      <td>3.530000</td>\n",
       "      <td>...</td>\n",
       "      <td>4.440000</td>\n",
       "      <td>1.160000</td>\n",
       "      <td>0.910000</td>\n",
       "      <td>0.840000</td>\n",
       "      <td>0.860000</td>\n",
       "      <td>0.860000</td>\n",
       "      <td>1.000000</td>\n",
       "      <td>2.070000</td>\n",
       "      <td>1.560000</td>\n",
       "      <td>1.660000</td>\n",
       "    </tr>\n",
       "    <tr>\n",
       "      <th>max</th>\n",
       "      <td>5.000000</td>\n",
       "      <td>5.000000</td>\n",
       "      <td>5.000000</td>\n",
       "      <td>5.000000</td>\n",
       "      <td>5.000000</td>\n",
       "      <td>5.00000</td>\n",
       "      <td>5.000000</td>\n",
       "      <td>5.000000</td>\n",
       "      <td>5.000000</td>\n",
       "      <td>5.000000</td>\n",
       "      <td>...</td>\n",
       "      <td>5.000000</td>\n",
       "      <td>5.000000</td>\n",
       "      <td>5.000000</td>\n",
       "      <td>5.000000</td>\n",
       "      <td>5.000000</td>\n",
       "      <td>5.000000</td>\n",
       "      <td>5.000000</td>\n",
       "      <td>5.000000</td>\n",
       "      <td>5.000000</td>\n",
       "      <td>5.000000</td>\n",
       "    </tr>\n",
       "  </tbody>\n",
       "</table>\n",
       "<p>8 rows × 24 columns</p>\n",
       "</div>"
      ],
      "text/plain": [
       "       AverageRatingsChurches  AverageRatingsResorts  AverageRatingsBeaches  \\\n",
       "count             5456.000000            5456.000000            5456.000000   \n",
       "mean                 1.455720               2.319707               2.489331   \n",
       "std                  0.827604               1.421438               1.247815   \n",
       "min                  0.000000               0.000000               0.000000   \n",
       "25%                  0.920000               1.360000               1.540000   \n",
       "50%                  1.340000               1.905000               2.060000   \n",
       "75%                  1.810000               2.682500               2.740000   \n",
       "max                  5.000000               5.000000               5.000000   \n",
       "\n",
       "       AverageRatingsParks  AverageRatingsTheatres  AverageRatingsMuseums  \\\n",
       "count          5456.000000             5456.000000             5456.00000   \n",
       "mean              2.796886                2.958941                2.89349   \n",
       "std               1.309159                1.339056                1.28240   \n",
       "min               0.830000                1.120000                1.11000   \n",
       "25%               1.730000                1.770000                1.79000   \n",
       "50%               2.460000                2.670000                2.68000   \n",
       "75%               4.092500                4.312500                3.84000   \n",
       "max               5.000000                5.000000                5.00000   \n",
       "\n",
       "       AverageRatingsMalls  AverageRatingsZoo  AverageRatingsRestaurants  \\\n",
       "count          5456.000000        5456.000000                5456.000000   \n",
       "mean              3.351395           2.540795                   3.126019   \n",
       "std               1.413492           1.111391                   1.356802   \n",
       "min               1.120000           0.860000                   0.840000   \n",
       "25%               1.930000           1.620000                   1.800000   \n",
       "50%               3.230000           2.170000                   2.800000   \n",
       "75%               5.000000           3.190000                   5.000000   \n",
       "max               5.000000           5.000000                   5.000000   \n",
       "\n",
       "       AverageRatingsPubsBars  ...  AverageRatingsArtGalleries  \\\n",
       "count             5456.000000  ...                 5456.000000   \n",
       "mean                 2.832729  ...                    2.206573   \n",
       "std                  1.307665  ...                    1.715961   \n",
       "min                  0.810000  ...                    0.000000   \n",
       "25%                  1.640000  ...                    0.860000   \n",
       "50%                  2.680000  ...                    1.330000   \n",
       "75%                  3.530000  ...                    4.440000   \n",
       "max                  5.000000  ...                    5.000000   \n",
       "\n",
       "       AverageRatingsDanceClubs  AverageRatingsSwimmingPools  \\\n",
       "count               5456.000000                  5456.000000   \n",
       "mean                   1.192801                     0.949203   \n",
       "std                    1.107005                     0.973536   \n",
       "min                    0.000000                     0.000000   \n",
       "25%                    0.690000                     0.580000   \n",
       "50%                    0.800000                     0.740000   \n",
       "75%                    1.160000                     0.910000   \n",
       "max                    5.000000                     5.000000   \n",
       "\n",
       "       AverageRatingsGyms  AverageRatingsBakeries  AverageRatingsBeautySpas  \\\n",
       "count         5456.000000             5456.000000               5456.000000   \n",
       "mean             0.822414                0.969811                  1.000071   \n",
       "std              0.947911                1.203972                  1.193891   \n",
       "min              0.000000                0.000000                  0.000000   \n",
       "25%              0.530000                0.520000                  0.540000   \n",
       "50%              0.690000                0.690000                  0.690000   \n",
       "75%              0.840000                0.860000                  0.860000   \n",
       "max              5.000000                5.000000                  5.000000   \n",
       "\n",
       "       AverageRatingsCafes  AverageRatingsViewPoints  AverageRatingsMonuments  \\\n",
       "count          5456.000000               5456.000000              5456.000000   \n",
       "mean              0.965838                  1.750537                 1.531453   \n",
       "std               0.929853                  1.598734                 1.316889   \n",
       "min               0.000000                  0.000000                 0.000000   \n",
       "25%               0.570000                  0.740000                 0.790000   \n",
       "50%               0.760000                  1.030000                 1.070000   \n",
       "75%               1.000000                  2.070000                 1.560000   \n",
       "max               5.000000                  5.000000                 5.000000   \n",
       "\n",
       "       AverageRatingsGardens  \n",
       "count            5455.000000  \n",
       "mean                1.560755  \n",
       "std                 1.171756  \n",
       "min                 0.000000  \n",
       "25%                 0.880000  \n",
       "50%                 1.290000  \n",
       "75%                 1.660000  \n",
       "max                 5.000000  \n",
       "\n",
       "[8 rows x 24 columns]"
      ]
     },
     "execution_count": 9,
     "metadata": {},
     "output_type": "execute_result"
    }
   ],
   "source": [
    "# Statisticke informacije o numerickim kolonama\n",
    "data.describe()"
   ]
  },
  {
   "cell_type": "code",
   "execution_count": 10,
   "id": "2b9064f7",
   "metadata": {},
   "outputs": [
    {
     "name": "stdout",
     "output_type": "stream",
     "text": [
      "AverageRatingsChurches            0\n",
      "AverageRatingsResorts             0\n",
      "AverageRatingsBeaches             0\n",
      "AverageRatingsParks               0\n",
      "AverageRatingsTheatres            0\n",
      "AverageRatingsMuseums             0\n",
      "AverageRatingsMalls               0\n",
      "AverageRatingsZoo                 0\n",
      "AverageRatingsRestaurants         0\n",
      "AverageRatingsPubsBars            0\n",
      "AverageRatingsLocalServices       1\n",
      "AverageRatingsBurgerPizzaShops    1\n",
      "AverageRatingsHotelsLodgings      0\n",
      "AverageRatingsJuiceBars           0\n",
      "AverageRatingsArtGalleries        0\n",
      "AverageRatingsDanceClubs          0\n",
      "AverageRatingsSwimmingPools       0\n",
      "AverageRatingsGyms                0\n",
      "AverageRatingsBakeries            0\n",
      "AverageRatingsBeautySpas          0\n",
      "AverageRatingsCafes               0\n",
      "AverageRatingsViewPoints          0\n",
      "AverageRatingsMonuments           0\n",
      "AverageRatingsGardens             1\n",
      "dtype: int64\n"
     ]
    }
   ],
   "source": [
    "#provera NaN vrednosti\n",
    "nan_check = data.isna().sum()\n",
    "print(nan_check)"
   ]
  },
  {
   "cell_type": "code",
   "execution_count": 11,
   "id": "7fe06b28",
   "metadata": {},
   "outputs": [],
   "source": [
    "# Zamena NaN vrednosti prosekom po koloni -> zadržacemo podatke u skupu umesto da ih izbacimo\n",
    "data = data.fillna(data.mean())"
   ]
  },
  {
   "cell_type": "code",
   "execution_count": 12,
   "id": "48a12bd0",
   "metadata": {},
   "outputs": [
    {
     "data": {
      "text/html": [
       "<div>\n",
       "<style scoped>\n",
       "    .dataframe tbody tr th:only-of-type {\n",
       "        vertical-align: middle;\n",
       "    }\n",
       "\n",
       "    .dataframe tbody tr th {\n",
       "        vertical-align: top;\n",
       "    }\n",
       "\n",
       "    .dataframe thead th {\n",
       "        text-align: right;\n",
       "    }\n",
       "</style>\n",
       "<table border=\"1\" class=\"dataframe\">\n",
       "  <thead>\n",
       "    <tr style=\"text-align: right;\">\n",
       "      <th></th>\n",
       "      <th>AverageRatingsChurches</th>\n",
       "      <th>AverageRatingsResorts</th>\n",
       "      <th>AverageRatingsBeaches</th>\n",
       "      <th>AverageRatingsParks</th>\n",
       "      <th>AverageRatingsTheatres</th>\n",
       "      <th>AverageRatingsMuseums</th>\n",
       "      <th>AverageRatingsMalls</th>\n",
       "      <th>AverageRatingsZoo</th>\n",
       "      <th>AverageRatingsRestaurants</th>\n",
       "      <th>AverageRatingsPubsBars</th>\n",
       "      <th>...</th>\n",
       "      <th>AverageRatingsArtGalleries</th>\n",
       "      <th>AverageRatingsDanceClubs</th>\n",
       "      <th>AverageRatingsSwimmingPools</th>\n",
       "      <th>AverageRatingsGyms</th>\n",
       "      <th>AverageRatingsBakeries</th>\n",
       "      <th>AverageRatingsBeautySpas</th>\n",
       "      <th>AverageRatingsCafes</th>\n",
       "      <th>AverageRatingsViewPoints</th>\n",
       "      <th>AverageRatingsMonuments</th>\n",
       "      <th>AverageRatingsGardens</th>\n",
       "    </tr>\n",
       "  </thead>\n",
       "  <tbody>\n",
       "    <tr>\n",
       "      <th>0</th>\n",
       "      <td>0.00</td>\n",
       "      <td>0.00</td>\n",
       "      <td>3.63</td>\n",
       "      <td>3.65</td>\n",
       "      <td>5.00</td>\n",
       "      <td>2.92</td>\n",
       "      <td>5.00</td>\n",
       "      <td>2.35</td>\n",
       "      <td>2.33</td>\n",
       "      <td>2.64</td>\n",
       "      <td>...</td>\n",
       "      <td>1.74</td>\n",
       "      <td>0.59</td>\n",
       "      <td>0.50</td>\n",
       "      <td>0.00</td>\n",
       "      <td>0.50</td>\n",
       "      <td>0.00</td>\n",
       "      <td>0.00</td>\n",
       "      <td>0.0</td>\n",
       "      <td>0.0</td>\n",
       "      <td>0.00</td>\n",
       "    </tr>\n",
       "    <tr>\n",
       "      <th>1</th>\n",
       "      <td>0.00</td>\n",
       "      <td>0.00</td>\n",
       "      <td>3.63</td>\n",
       "      <td>3.65</td>\n",
       "      <td>5.00</td>\n",
       "      <td>2.92</td>\n",
       "      <td>5.00</td>\n",
       "      <td>2.64</td>\n",
       "      <td>2.33</td>\n",
       "      <td>2.65</td>\n",
       "      <td>...</td>\n",
       "      <td>1.74</td>\n",
       "      <td>0.59</td>\n",
       "      <td>0.50</td>\n",
       "      <td>0.00</td>\n",
       "      <td>0.50</td>\n",
       "      <td>0.00</td>\n",
       "      <td>0.00</td>\n",
       "      <td>0.0</td>\n",
       "      <td>0.0</td>\n",
       "      <td>0.00</td>\n",
       "    </tr>\n",
       "    <tr>\n",
       "      <th>2</th>\n",
       "      <td>0.00</td>\n",
       "      <td>0.00</td>\n",
       "      <td>3.63</td>\n",
       "      <td>3.63</td>\n",
       "      <td>5.00</td>\n",
       "      <td>2.92</td>\n",
       "      <td>5.00</td>\n",
       "      <td>2.64</td>\n",
       "      <td>2.33</td>\n",
       "      <td>2.64</td>\n",
       "      <td>...</td>\n",
       "      <td>1.74</td>\n",
       "      <td>0.59</td>\n",
       "      <td>0.50</td>\n",
       "      <td>0.00</td>\n",
       "      <td>0.50</td>\n",
       "      <td>0.00</td>\n",
       "      <td>0.00</td>\n",
       "      <td>0.0</td>\n",
       "      <td>0.0</td>\n",
       "      <td>0.00</td>\n",
       "    </tr>\n",
       "    <tr>\n",
       "      <th>3</th>\n",
       "      <td>0.00</td>\n",
       "      <td>0.50</td>\n",
       "      <td>3.63</td>\n",
       "      <td>3.63</td>\n",
       "      <td>5.00</td>\n",
       "      <td>2.92</td>\n",
       "      <td>5.00</td>\n",
       "      <td>2.35</td>\n",
       "      <td>2.33</td>\n",
       "      <td>2.64</td>\n",
       "      <td>...</td>\n",
       "      <td>1.74</td>\n",
       "      <td>0.59</td>\n",
       "      <td>0.50</td>\n",
       "      <td>0.00</td>\n",
       "      <td>0.50</td>\n",
       "      <td>0.00</td>\n",
       "      <td>0.00</td>\n",
       "      <td>0.0</td>\n",
       "      <td>0.0</td>\n",
       "      <td>0.00</td>\n",
       "    </tr>\n",
       "    <tr>\n",
       "      <th>4</th>\n",
       "      <td>0.00</td>\n",
       "      <td>0.00</td>\n",
       "      <td>3.63</td>\n",
       "      <td>3.63</td>\n",
       "      <td>5.00</td>\n",
       "      <td>2.92</td>\n",
       "      <td>5.00</td>\n",
       "      <td>2.64</td>\n",
       "      <td>2.33</td>\n",
       "      <td>2.64</td>\n",
       "      <td>...</td>\n",
       "      <td>1.74</td>\n",
       "      <td>0.59</td>\n",
       "      <td>0.50</td>\n",
       "      <td>0.00</td>\n",
       "      <td>0.50</td>\n",
       "      <td>0.00</td>\n",
       "      <td>0.00</td>\n",
       "      <td>0.0</td>\n",
       "      <td>0.0</td>\n",
       "      <td>0.00</td>\n",
       "    </tr>\n",
       "    <tr>\n",
       "      <th>...</th>\n",
       "      <td>...</td>\n",
       "      <td>...</td>\n",
       "      <td>...</td>\n",
       "      <td>...</td>\n",
       "      <td>...</td>\n",
       "      <td>...</td>\n",
       "      <td>...</td>\n",
       "      <td>...</td>\n",
       "      <td>...</td>\n",
       "      <td>...</td>\n",
       "      <td>...</td>\n",
       "      <td>...</td>\n",
       "      <td>...</td>\n",
       "      <td>...</td>\n",
       "      <td>...</td>\n",
       "      <td>...</td>\n",
       "      <td>...</td>\n",
       "      <td>...</td>\n",
       "      <td>...</td>\n",
       "      <td>...</td>\n",
       "      <td>...</td>\n",
       "    </tr>\n",
       "    <tr>\n",
       "      <th>5451</th>\n",
       "      <td>0.91</td>\n",
       "      <td>5.00</td>\n",
       "      <td>4.00</td>\n",
       "      <td>2.79</td>\n",
       "      <td>2.77</td>\n",
       "      <td>2.57</td>\n",
       "      <td>2.43</td>\n",
       "      <td>1.09</td>\n",
       "      <td>1.77</td>\n",
       "      <td>1.04</td>\n",
       "      <td>...</td>\n",
       "      <td>5.00</td>\n",
       "      <td>0.66</td>\n",
       "      <td>0.65</td>\n",
       "      <td>0.66</td>\n",
       "      <td>0.69</td>\n",
       "      <td>5.00</td>\n",
       "      <td>1.05</td>\n",
       "      <td>5.0</td>\n",
       "      <td>5.0</td>\n",
       "      <td>1.56</td>\n",
       "    </tr>\n",
       "    <tr>\n",
       "      <th>5452</th>\n",
       "      <td>0.93</td>\n",
       "      <td>5.00</td>\n",
       "      <td>4.02</td>\n",
       "      <td>2.79</td>\n",
       "      <td>2.78</td>\n",
       "      <td>2.57</td>\n",
       "      <td>1.77</td>\n",
       "      <td>1.07</td>\n",
       "      <td>1.76</td>\n",
       "      <td>1.02</td>\n",
       "      <td>...</td>\n",
       "      <td>0.89</td>\n",
       "      <td>0.65</td>\n",
       "      <td>0.64</td>\n",
       "      <td>0.65</td>\n",
       "      <td>1.59</td>\n",
       "      <td>1.62</td>\n",
       "      <td>1.06</td>\n",
       "      <td>5.0</td>\n",
       "      <td>5.0</td>\n",
       "      <td>1.09</td>\n",
       "    </tr>\n",
       "    <tr>\n",
       "      <th>5453</th>\n",
       "      <td>0.94</td>\n",
       "      <td>5.00</td>\n",
       "      <td>4.03</td>\n",
       "      <td>2.80</td>\n",
       "      <td>2.78</td>\n",
       "      <td>2.57</td>\n",
       "      <td>1.75</td>\n",
       "      <td>1.05</td>\n",
       "      <td>1.75</td>\n",
       "      <td>1.00</td>\n",
       "      <td>...</td>\n",
       "      <td>0.87</td>\n",
       "      <td>0.65</td>\n",
       "      <td>0.63</td>\n",
       "      <td>0.64</td>\n",
       "      <td>0.74</td>\n",
       "      <td>5.00</td>\n",
       "      <td>1.07</td>\n",
       "      <td>5.0</td>\n",
       "      <td>5.0</td>\n",
       "      <td>1.11</td>\n",
       "    </tr>\n",
       "    <tr>\n",
       "      <th>5454</th>\n",
       "      <td>0.95</td>\n",
       "      <td>4.05</td>\n",
       "      <td>4.05</td>\n",
       "      <td>2.81</td>\n",
       "      <td>2.79</td>\n",
       "      <td>2.44</td>\n",
       "      <td>1.76</td>\n",
       "      <td>1.03</td>\n",
       "      <td>1.74</td>\n",
       "      <td>0.98</td>\n",
       "      <td>...</td>\n",
       "      <td>5.00</td>\n",
       "      <td>0.64</td>\n",
       "      <td>0.63</td>\n",
       "      <td>0.64</td>\n",
       "      <td>0.75</td>\n",
       "      <td>5.00</td>\n",
       "      <td>1.08</td>\n",
       "      <td>5.0</td>\n",
       "      <td>5.0</td>\n",
       "      <td>1.12</td>\n",
       "    </tr>\n",
       "    <tr>\n",
       "      <th>5455</th>\n",
       "      <td>0.95</td>\n",
       "      <td>4.07</td>\n",
       "      <td>5.00</td>\n",
       "      <td>2.82</td>\n",
       "      <td>2.80</td>\n",
       "      <td>2.57</td>\n",
       "      <td>2.42</td>\n",
       "      <td>1.02</td>\n",
       "      <td>1.74</td>\n",
       "      <td>0.96</td>\n",
       "      <td>...</td>\n",
       "      <td>0.85</td>\n",
       "      <td>0.64</td>\n",
       "      <td>0.62</td>\n",
       "      <td>0.63</td>\n",
       "      <td>0.78</td>\n",
       "      <td>5.00</td>\n",
       "      <td>1.08</td>\n",
       "      <td>5.0</td>\n",
       "      <td>5.0</td>\n",
       "      <td>1.17</td>\n",
       "    </tr>\n",
       "  </tbody>\n",
       "</table>\n",
       "<p>5456 rows × 24 columns</p>\n",
       "</div>"
      ],
      "text/plain": [
       "      AverageRatingsChurches  AverageRatingsResorts  AverageRatingsBeaches  \\\n",
       "0                       0.00                   0.00                   3.63   \n",
       "1                       0.00                   0.00                   3.63   \n",
       "2                       0.00                   0.00                   3.63   \n",
       "3                       0.00                   0.50                   3.63   \n",
       "4                       0.00                   0.00                   3.63   \n",
       "...                      ...                    ...                    ...   \n",
       "5451                    0.91                   5.00                   4.00   \n",
       "5452                    0.93                   5.00                   4.02   \n",
       "5453                    0.94                   5.00                   4.03   \n",
       "5454                    0.95                   4.05                   4.05   \n",
       "5455                    0.95                   4.07                   5.00   \n",
       "\n",
       "      AverageRatingsParks  AverageRatingsTheatres  AverageRatingsMuseums  \\\n",
       "0                    3.65                    5.00                   2.92   \n",
       "1                    3.65                    5.00                   2.92   \n",
       "2                    3.63                    5.00                   2.92   \n",
       "3                    3.63                    5.00                   2.92   \n",
       "4                    3.63                    5.00                   2.92   \n",
       "...                   ...                     ...                    ...   \n",
       "5451                 2.79                    2.77                   2.57   \n",
       "5452                 2.79                    2.78                   2.57   \n",
       "5453                 2.80                    2.78                   2.57   \n",
       "5454                 2.81                    2.79                   2.44   \n",
       "5455                 2.82                    2.80                   2.57   \n",
       "\n",
       "      AverageRatingsMalls  AverageRatingsZoo  AverageRatingsRestaurants  \\\n",
       "0                    5.00               2.35                       2.33   \n",
       "1                    5.00               2.64                       2.33   \n",
       "2                    5.00               2.64                       2.33   \n",
       "3                    5.00               2.35                       2.33   \n",
       "4                    5.00               2.64                       2.33   \n",
       "...                   ...                ...                        ...   \n",
       "5451                 2.43               1.09                       1.77   \n",
       "5452                 1.77               1.07                       1.76   \n",
       "5453                 1.75               1.05                       1.75   \n",
       "5454                 1.76               1.03                       1.74   \n",
       "5455                 2.42               1.02                       1.74   \n",
       "\n",
       "      AverageRatingsPubsBars  ...  AverageRatingsArtGalleries  \\\n",
       "0                       2.64  ...                        1.74   \n",
       "1                       2.65  ...                        1.74   \n",
       "2                       2.64  ...                        1.74   \n",
       "3                       2.64  ...                        1.74   \n",
       "4                       2.64  ...                        1.74   \n",
       "...                      ...  ...                         ...   \n",
       "5451                    1.04  ...                        5.00   \n",
       "5452                    1.02  ...                        0.89   \n",
       "5453                    1.00  ...                        0.87   \n",
       "5454                    0.98  ...                        5.00   \n",
       "5455                    0.96  ...                        0.85   \n",
       "\n",
       "      AverageRatingsDanceClubs  AverageRatingsSwimmingPools  \\\n",
       "0                         0.59                         0.50   \n",
       "1                         0.59                         0.50   \n",
       "2                         0.59                         0.50   \n",
       "3                         0.59                         0.50   \n",
       "4                         0.59                         0.50   \n",
       "...                        ...                          ...   \n",
       "5451                      0.66                         0.65   \n",
       "5452                      0.65                         0.64   \n",
       "5453                      0.65                         0.63   \n",
       "5454                      0.64                         0.63   \n",
       "5455                      0.64                         0.62   \n",
       "\n",
       "      AverageRatingsGyms  AverageRatingsBakeries  AverageRatingsBeautySpas  \\\n",
       "0                   0.00                    0.50                      0.00   \n",
       "1                   0.00                    0.50                      0.00   \n",
       "2                   0.00                    0.50                      0.00   \n",
       "3                   0.00                    0.50                      0.00   \n",
       "4                   0.00                    0.50                      0.00   \n",
       "...                  ...                     ...                       ...   \n",
       "5451                0.66                    0.69                      5.00   \n",
       "5452                0.65                    1.59                      1.62   \n",
       "5453                0.64                    0.74                      5.00   \n",
       "5454                0.64                    0.75                      5.00   \n",
       "5455                0.63                    0.78                      5.00   \n",
       "\n",
       "      AverageRatingsCafes  AverageRatingsViewPoints  AverageRatingsMonuments  \\\n",
       "0                    0.00                       0.0                      0.0   \n",
       "1                    0.00                       0.0                      0.0   \n",
       "2                    0.00                       0.0                      0.0   \n",
       "3                    0.00                       0.0                      0.0   \n",
       "4                    0.00                       0.0                      0.0   \n",
       "...                   ...                       ...                      ...   \n",
       "5451                 1.05                       5.0                      5.0   \n",
       "5452                 1.06                       5.0                      5.0   \n",
       "5453                 1.07                       5.0                      5.0   \n",
       "5454                 1.08                       5.0                      5.0   \n",
       "5455                 1.08                       5.0                      5.0   \n",
       "\n",
       "      AverageRatingsGardens  \n",
       "0                      0.00  \n",
       "1                      0.00  \n",
       "2                      0.00  \n",
       "3                      0.00  \n",
       "4                      0.00  \n",
       "...                     ...  \n",
       "5451                   1.56  \n",
       "5452                   1.09  \n",
       "5453                   1.11  \n",
       "5454                   1.12  \n",
       "5455                   1.17  \n",
       "\n",
       "[5456 rows x 24 columns]"
      ]
     },
     "execution_count": 12,
     "metadata": {},
     "output_type": "execute_result"
    }
   ],
   "source": [
    "data"
   ]
  },
  {
   "cell_type": "markdown",
   "id": "041cb29a",
   "metadata": {},
   "source": [
    "Posto se u kolonama vec nalaze prosecne ocene koje su korisnici dali za određene atrakcije, onda mozemo koristiti te prosečne ocene kao ciljnu promenljivu za klasifikaciju. \n",
    "\n",
    "Na primer: klasifikovacemo ocene korisnika u tri kategorije: \"niska,\" \"srednja\" i \"visoka.\"\n",
    "Posto su ocene u opsegu od 0 do 5, postavljamo pragove na osnovu kojih ćemo kategorizovati ocene (biramo ih tako da ravnomerno podelimo opseg ocena).\n",
    "\n",
    "    Ako je prosečna ocena za atrakciju manja od 1.7, označavamo je kao \"niska.\"\n",
    "    Ako je prosečna ocena za atrakciju veća od 1.7 i manja od 3.4, označavamo je kao \"srednja.\"\n",
    "    Ako je prosečna ocena za atrakciju veća od 3.4, označavamo je kao \"visoka.\""
   ]
  },
  {
   "cell_type": "code",
   "execution_count": 13,
   "id": "4aed921a",
   "metadata": {},
   "outputs": [],
   "source": [
    "# Funkcija za kategorizaciju\n",
    "def categorize_rating(rating):\n",
    "    if rating < 1.7:\n",
    "        return \"niska\"\n",
    "    elif rating >= 1.7 and rating < 3.4:\n",
    "        return \"srednja\"\n",
    "    else:\n",
    "        return \"visoka\""
   ]
  },
  {
   "cell_type": "code",
   "execution_count": 14,
   "id": "afef42d1",
   "metadata": {},
   "outputs": [],
   "source": [
    "# Primena funkcije na postojeće prosecne ocene i kreiranje nove ciljne kolone\n",
    "data['CategorizedRatings'] = data['AverageRatingsChurches'].apply(categorize_rating)"
   ]
  },
  {
   "cell_type": "code",
   "execution_count": 15,
   "id": "d8afae74",
   "metadata": {},
   "outputs": [
    {
     "data": {
      "text/plain": [
       "196"
      ]
     },
     "execution_count": 15,
     "metadata": {},
     "output_type": "execute_result"
    }
   ],
   "source": [
    "data['CategorizedRatings'].value_counts()['visoka']"
   ]
  },
  {
   "cell_type": "code",
   "execution_count": 16,
   "id": "b297cb32",
   "metadata": {},
   "outputs": [
    {
     "data": {
      "text/plain": [
       "1356"
      ]
     },
     "execution_count": 16,
     "metadata": {},
     "output_type": "execute_result"
    }
   ],
   "source": [
    "data['CategorizedRatings'].value_counts()['srednja']"
   ]
  },
  {
   "cell_type": "code",
   "execution_count": 17,
   "id": "d52e8780",
   "metadata": {},
   "outputs": [
    {
     "data": {
      "text/plain": [
       "3904"
      ]
     },
     "execution_count": 17,
     "metadata": {},
     "output_type": "execute_result"
    }
   ],
   "source": [
    "data['CategorizedRatings'].value_counts()['niska']"
   ]
  },
  {
   "cell_type": "code",
   "execution_count": 18,
   "id": "d159d581",
   "metadata": {},
   "outputs": [],
   "source": [
    "#Vidimo da su podaci nebalansirani i to nas navodi da treba da iskoristimo parametar class_weights\n",
    "#postavljamo class_weight='balanced' i onda ce model sam da odredi tezine koje su proporcionalne broju instanci u skupu"
   ]
  },
  {
   "cell_type": "markdown",
   "id": "503e1529",
   "metadata": {},
   "source": [
    "<!-- Podela podataka na trening, validacioni i test skup kako bismo trenirali modele, optimizovali ih i testirali njihovu tacnost. -->\n",
    "\n",
    "Podela podataka na trening, validacioni i test skup igra ključnu ulogu u našem procesu analize. \n",
    "\n",
    "Prvo koristimo trening skup kako bismo obučili naše modele omogućavajući im da nauče zakonitosti i obrasce u podacima. \n",
    "Nakon toga, koristimo validacioni skup kako bismo optimizovalali modele, podešavajući hiperparametre i vršeći evaluaciju performansi.\n",
    "Na kraju, test skup nam omogućava da nepristrasno procenimo tačnost i performanse naših obučenih modela na potpuno novim i neviđenim podacima."
   ]
  },
  {
   "cell_type": "code",
   "execution_count": 19,
   "id": "6d4eb80a",
   "metadata": {},
   "outputs": [],
   "source": [
    "X = data.drop(['AverageRatingsChurches', 'CategorizedRatings'], axis=1)  # Ulazni atributi\n",
    "y = data['CategorizedRatings']  # Ciljna promenljiva\n",
    "\n",
    "# Podelili smo podatke u trening, validacioni i test skup u odnosu 70-15-15.\n",
    "X_train, X_temp, y_train, y_temp = train_test_split(X, y, test_size=0.3, random_state=42, stratify=y)\n",
    "X_val, X_test, y_val, y_test = train_test_split(X_temp, y_temp, test_size=0.5, random_state=42)\n"
   ]
  },
  {
   "cell_type": "markdown",
   "id": "e1eb7061",
   "metadata": {},
   "source": [
    "Odabir tri različita modela za klasifikaciju i primena Grid Search-a za optimizaciju parametara tih modela.\n",
    "# 1. Logistička regresija\n",
    "# 2. Random Forest\n",
    "# 3. Support Vector Machine\n",
    "Nakon što optimizujemo parametre, uporedićemo performanse ovih modela kako bismo odabrali najbolji model za naše podatke."
   ]
  },
  {
   "cell_type": "markdown",
   "id": "68b6dca2",
   "metadata": {},
   "source": [
    "# Logistička regresija"
   ]
  },
  {
   "cell_type": "code",
   "execution_count": 20,
   "id": "ecf0eb22",
   "metadata": {},
   "outputs": [],
   "source": [
    "# Definisanje opsega hiperparametara\n",
    "param_grid = {\n",
    "    'C': [0.001, 0.01, 0.1, 1, 10],  #C je hiperparametar za kontrolu jačine regularizacije\n",
    "    'solver': ['lbfgs', 'liblinear', 'newton-cg']\n",
    "}"
   ]
  },
  {
   "cell_type": "code",
   "execution_count": 21,
   "id": "59ade0f8",
   "metadata": {},
   "outputs": [],
   "source": [
    "# Kreiranje modela za višeklasnu logističku regresiju\n",
    "logistic_model = LogisticRegression(multi_class='multinomial', class_weight='balanced')"
   ]
  },
  {
   "cell_type": "code",
   "execution_count": 22,
   "id": "a6c82bc8",
   "metadata": {},
   "outputs": [],
   "source": [
    "# Inicijalizacija GridSearchCV objekta\n",
    "grid_search = GridSearchCV(logistic_model, param_grid, cv=5, scoring='accuracy')"
   ]
  },
  {
   "cell_type": "code",
   "execution_count": 23,
   "id": "07ba9b5c",
   "metadata": {},
   "outputs": [
    {
     "name": "stderr",
     "output_type": "stream",
     "text": [
      "/home/oem/.local/lib/python3.10/site-packages/sklearn/linear_model/_logistic.py:460: ConvergenceWarning: lbfgs failed to converge (status=1):\n",
      "STOP: TOTAL NO. of ITERATIONS REACHED LIMIT.\n",
      "\n",
      "Increase the number of iterations (max_iter) or scale the data as shown in:\n",
      "    https://scikit-learn.org/stable/modules/preprocessing.html\n",
      "Please also refer to the documentation for alternative solver options:\n",
      "    https://scikit-learn.org/stable/modules/linear_model.html#logistic-regression\n",
      "  n_iter_i = _check_optimize_result(\n",
      "/home/oem/.local/lib/python3.10/site-packages/sklearn/linear_model/_logistic.py:460: ConvergenceWarning: lbfgs failed to converge (status=1):\n",
      "STOP: TOTAL NO. of ITERATIONS REACHED LIMIT.\n",
      "\n",
      "Increase the number of iterations (max_iter) or scale the data as shown in:\n",
      "    https://scikit-learn.org/stable/modules/preprocessing.html\n",
      "Please also refer to the documentation for alternative solver options:\n",
      "    https://scikit-learn.org/stable/modules/linear_model.html#logistic-regression\n",
      "  n_iter_i = _check_optimize_result(\n",
      "/home/oem/.local/lib/python3.10/site-packages/sklearn/linear_model/_logistic.py:460: ConvergenceWarning: lbfgs failed to converge (status=1):\n",
      "STOP: TOTAL NO. of ITERATIONS REACHED LIMIT.\n",
      "\n",
      "Increase the number of iterations (max_iter) or scale the data as shown in:\n",
      "    https://scikit-learn.org/stable/modules/preprocessing.html\n",
      "Please also refer to the documentation for alternative solver options:\n",
      "    https://scikit-learn.org/stable/modules/linear_model.html#logistic-regression\n",
      "  n_iter_i = _check_optimize_result(\n",
      "/home/oem/.local/lib/python3.10/site-packages/sklearn/linear_model/_logistic.py:460: ConvergenceWarning: lbfgs failed to converge (status=1):\n",
      "STOP: TOTAL NO. of ITERATIONS REACHED LIMIT.\n",
      "\n",
      "Increase the number of iterations (max_iter) or scale the data as shown in:\n",
      "    https://scikit-learn.org/stable/modules/preprocessing.html\n",
      "Please also refer to the documentation for alternative solver options:\n",
      "    https://scikit-learn.org/stable/modules/linear_model.html#logistic-regression\n",
      "  n_iter_i = _check_optimize_result(\n",
      "/home/oem/.local/lib/python3.10/site-packages/sklearn/linear_model/_logistic.py:460: ConvergenceWarning: lbfgs failed to converge (status=1):\n",
      "STOP: TOTAL NO. of ITERATIONS REACHED LIMIT.\n",
      "\n",
      "Increase the number of iterations (max_iter) or scale the data as shown in:\n",
      "    https://scikit-learn.org/stable/modules/preprocessing.html\n",
      "Please also refer to the documentation for alternative solver options:\n",
      "    https://scikit-learn.org/stable/modules/linear_model.html#logistic-regression\n",
      "  n_iter_i = _check_optimize_result(\n",
      "/home/oem/.local/lib/python3.10/site-packages/sklearn/linear_model/_logistic.py:460: ConvergenceWarning: lbfgs failed to converge (status=1):\n",
      "STOP: TOTAL NO. of ITERATIONS REACHED LIMIT.\n",
      "\n",
      "Increase the number of iterations (max_iter) or scale the data as shown in:\n",
      "    https://scikit-learn.org/stable/modules/preprocessing.html\n",
      "Please also refer to the documentation for alternative solver options:\n",
      "    https://scikit-learn.org/stable/modules/linear_model.html#logistic-regression\n",
      "  n_iter_i = _check_optimize_result(\n",
      "/home/oem/.local/lib/python3.10/site-packages/sklearn/linear_model/_logistic.py:460: ConvergenceWarning: lbfgs failed to converge (status=1):\n",
      "STOP: TOTAL NO. of ITERATIONS REACHED LIMIT.\n",
      "\n",
      "Increase the number of iterations (max_iter) or scale the data as shown in:\n",
      "    https://scikit-learn.org/stable/modules/preprocessing.html\n",
      "Please also refer to the documentation for alternative solver options:\n",
      "    https://scikit-learn.org/stable/modules/linear_model.html#logistic-regression\n",
      "  n_iter_i = _check_optimize_result(\n",
      "/home/oem/.local/lib/python3.10/site-packages/sklearn/linear_model/_logistic.py:460: ConvergenceWarning: lbfgs failed to converge (status=1):\n",
      "STOP: TOTAL NO. of ITERATIONS REACHED LIMIT.\n",
      "\n",
      "Increase the number of iterations (max_iter) or scale the data as shown in:\n",
      "    https://scikit-learn.org/stable/modules/preprocessing.html\n",
      "Please also refer to the documentation for alternative solver options:\n",
      "    https://scikit-learn.org/stable/modules/linear_model.html#logistic-regression\n",
      "  n_iter_i = _check_optimize_result(\n",
      "/home/oem/.local/lib/python3.10/site-packages/sklearn/linear_model/_logistic.py:460: ConvergenceWarning: lbfgs failed to converge (status=1):\n",
      "STOP: TOTAL NO. of ITERATIONS REACHED LIMIT.\n",
      "\n",
      "Increase the number of iterations (max_iter) or scale the data as shown in:\n",
      "    https://scikit-learn.org/stable/modules/preprocessing.html\n",
      "Please also refer to the documentation for alternative solver options:\n",
      "    https://scikit-learn.org/stable/modules/linear_model.html#logistic-regression\n",
      "  n_iter_i = _check_optimize_result(\n",
      "/home/oem/.local/lib/python3.10/site-packages/sklearn/linear_model/_logistic.py:460: ConvergenceWarning: lbfgs failed to converge (status=1):\n",
      "STOP: TOTAL NO. of ITERATIONS REACHED LIMIT.\n",
      "\n",
      "Increase the number of iterations (max_iter) or scale the data as shown in:\n",
      "    https://scikit-learn.org/stable/modules/preprocessing.html\n",
      "Please also refer to the documentation for alternative solver options:\n",
      "    https://scikit-learn.org/stable/modules/linear_model.html#logistic-regression\n",
      "  n_iter_i = _check_optimize_result(\n",
      "/home/oem/.local/lib/python3.10/site-packages/sklearn/linear_model/_logistic.py:460: ConvergenceWarning: lbfgs failed to converge (status=1):\n",
      "STOP: TOTAL NO. of ITERATIONS REACHED LIMIT.\n",
      "\n",
      "Increase the number of iterations (max_iter) or scale the data as shown in:\n",
      "    https://scikit-learn.org/stable/modules/preprocessing.html\n",
      "Please also refer to the documentation for alternative solver options:\n",
      "    https://scikit-learn.org/stable/modules/linear_model.html#logistic-regression\n",
      "  n_iter_i = _check_optimize_result(\n",
      "/home/oem/.local/lib/python3.10/site-packages/sklearn/linear_model/_logistic.py:460: ConvergenceWarning: lbfgs failed to converge (status=1):\n",
      "STOP: TOTAL NO. of ITERATIONS REACHED LIMIT.\n",
      "\n",
      "Increase the number of iterations (max_iter) or scale the data as shown in:\n",
      "    https://scikit-learn.org/stable/modules/preprocessing.html\n",
      "Please also refer to the documentation for alternative solver options:\n",
      "    https://scikit-learn.org/stable/modules/linear_model.html#logistic-regression\n",
      "  n_iter_i = _check_optimize_result(\n",
      "/home/oem/.local/lib/python3.10/site-packages/sklearn/linear_model/_logistic.py:460: ConvergenceWarning: lbfgs failed to converge (status=1):\n",
      "STOP: TOTAL NO. of ITERATIONS REACHED LIMIT.\n",
      "\n",
      "Increase the number of iterations (max_iter) or scale the data as shown in:\n",
      "    https://scikit-learn.org/stable/modules/preprocessing.html\n",
      "Please also refer to the documentation for alternative solver options:\n",
      "    https://scikit-learn.org/stable/modules/linear_model.html#logistic-regression\n",
      "  n_iter_i = _check_optimize_result(\n",
      "/home/oem/.local/lib/python3.10/site-packages/sklearn/linear_model/_logistic.py:460: ConvergenceWarning: lbfgs failed to converge (status=1):\n",
      "STOP: TOTAL NO. of ITERATIONS REACHED LIMIT.\n",
      "\n",
      "Increase the number of iterations (max_iter) or scale the data as shown in:\n",
      "    https://scikit-learn.org/stable/modules/preprocessing.html\n",
      "Please also refer to the documentation for alternative solver options:\n",
      "    https://scikit-learn.org/stable/modules/linear_model.html#logistic-regression\n",
      "  n_iter_i = _check_optimize_result(\n",
      "/home/oem/.local/lib/python3.10/site-packages/sklearn/linear_model/_logistic.py:460: ConvergenceWarning: lbfgs failed to converge (status=1):\n",
      "STOP: TOTAL NO. of ITERATIONS REACHED LIMIT.\n",
      "\n",
      "Increase the number of iterations (max_iter) or scale the data as shown in:\n",
      "    https://scikit-learn.org/stable/modules/preprocessing.html\n",
      "Please also refer to the documentation for alternative solver options:\n",
      "    https://scikit-learn.org/stable/modules/linear_model.html#logistic-regression\n",
      "  n_iter_i = _check_optimize_result(\n",
      "/home/oem/.local/lib/python3.10/site-packages/sklearn/linear_model/_logistic.py:460: ConvergenceWarning: lbfgs failed to converge (status=1):\n",
      "STOP: TOTAL NO. of ITERATIONS REACHED LIMIT.\n",
      "\n",
      "Increase the number of iterations (max_iter) or scale the data as shown in:\n",
      "    https://scikit-learn.org/stable/modules/preprocessing.html\n",
      "Please also refer to the documentation for alternative solver options:\n",
      "    https://scikit-learn.org/stable/modules/linear_model.html#logistic-regression\n",
      "  n_iter_i = _check_optimize_result(\n"
     ]
    },
    {
     "name": "stderr",
     "output_type": "stream",
     "text": [
      "/home/oem/.local/lib/python3.10/site-packages/sklearn/linear_model/_logistic.py:460: ConvergenceWarning: lbfgs failed to converge (status=1):\n",
      "STOP: TOTAL NO. of ITERATIONS REACHED LIMIT.\n",
      "\n",
      "Increase the number of iterations (max_iter) or scale the data as shown in:\n",
      "    https://scikit-learn.org/stable/modules/preprocessing.html\n",
      "Please also refer to the documentation for alternative solver options:\n",
      "    https://scikit-learn.org/stable/modules/linear_model.html#logistic-regression\n",
      "  n_iter_i = _check_optimize_result(\n",
      "/home/oem/.local/lib/python3.10/site-packages/sklearn/linear_model/_logistic.py:460: ConvergenceWarning: lbfgs failed to converge (status=1):\n",
      "STOP: TOTAL NO. of ITERATIONS REACHED LIMIT.\n",
      "\n",
      "Increase the number of iterations (max_iter) or scale the data as shown in:\n",
      "    https://scikit-learn.org/stable/modules/preprocessing.html\n",
      "Please also refer to the documentation for alternative solver options:\n",
      "    https://scikit-learn.org/stable/modules/linear_model.html#logistic-regression\n",
      "  n_iter_i = _check_optimize_result(\n",
      "/home/oem/.local/lib/python3.10/site-packages/sklearn/linear_model/_logistic.py:460: ConvergenceWarning: lbfgs failed to converge (status=1):\n",
      "STOP: TOTAL NO. of ITERATIONS REACHED LIMIT.\n",
      "\n",
      "Increase the number of iterations (max_iter) or scale the data as shown in:\n",
      "    https://scikit-learn.org/stable/modules/preprocessing.html\n",
      "Please also refer to the documentation for alternative solver options:\n",
      "    https://scikit-learn.org/stable/modules/linear_model.html#logistic-regression\n",
      "  n_iter_i = _check_optimize_result(\n",
      "/home/oem/.local/lib/python3.10/site-packages/sklearn/model_selection/_validation.py:425: FitFailedWarning: \n",
      "25 fits failed out of a total of 75.\n",
      "The score on these train-test partitions for these parameters will be set to nan.\n",
      "If these failures are not expected, you can try to debug them by setting error_score='raise'.\n",
      "\n",
      "Below are more details about the failures:\n",
      "--------------------------------------------------------------------------------\n",
      "25 fits failed with the following error:\n",
      "Traceback (most recent call last):\n",
      "  File \"/home/oem/.local/lib/python3.10/site-packages/sklearn/model_selection/_validation.py\", line 732, in _fit_and_score\n",
      "    estimator.fit(X_train, y_train, **fit_params)\n",
      "  File \"/home/oem/.local/lib/python3.10/site-packages/sklearn/base.py\", line 1151, in wrapper\n",
      "    return fit_method(estimator, *args, **kwargs)\n",
      "  File \"/home/oem/.local/lib/python3.10/site-packages/sklearn/linear_model/_logistic.py\", line 1218, in fit\n",
      "    multi_class = _check_multi_class(self.multi_class, solver, len(self.classes_))\n",
      "  File \"/home/oem/.local/lib/python3.10/site-packages/sklearn/linear_model/_logistic.py\", line 92, in _check_multi_class\n",
      "    raise ValueError(\"Solver %s does not support a multinomial backend.\" % solver)\n",
      "ValueError: Solver liblinear does not support a multinomial backend.\n",
      "\n",
      "  warnings.warn(some_fits_failed_message, FitFailedWarning)\n",
      "/home/oem/.local/lib/python3.10/site-packages/sklearn/model_selection/_search.py:976: UserWarning: One or more of the test scores are non-finite: [0.73082109        nan 0.73082109 0.73579972        nan 0.73632328\n",
      " 0.74129813        nan 0.74208347 0.74077422        nan 0.74077422\n",
      " 0.741036          nan 0.74077422]\n",
      "  warnings.warn(\n"
     ]
    },
    {
     "data": {
      "text/html": [
       "<style>#sk-container-id-1 {color: black;}#sk-container-id-1 pre{padding: 0;}#sk-container-id-1 div.sk-toggleable {background-color: white;}#sk-container-id-1 label.sk-toggleable__label {cursor: pointer;display: block;width: 100%;margin-bottom: 0;padding: 0.3em;box-sizing: border-box;text-align: center;}#sk-container-id-1 label.sk-toggleable__label-arrow:before {content: \"▸\";float: left;margin-right: 0.25em;color: #696969;}#sk-container-id-1 label.sk-toggleable__label-arrow:hover:before {color: black;}#sk-container-id-1 div.sk-estimator:hover label.sk-toggleable__label-arrow:before {color: black;}#sk-container-id-1 div.sk-toggleable__content {max-height: 0;max-width: 0;overflow: hidden;text-align: left;background-color: #f0f8ff;}#sk-container-id-1 div.sk-toggleable__content pre {margin: 0.2em;color: black;border-radius: 0.25em;background-color: #f0f8ff;}#sk-container-id-1 input.sk-toggleable__control:checked~div.sk-toggleable__content {max-height: 200px;max-width: 100%;overflow: auto;}#sk-container-id-1 input.sk-toggleable__control:checked~label.sk-toggleable__label-arrow:before {content: \"▾\";}#sk-container-id-1 div.sk-estimator input.sk-toggleable__control:checked~label.sk-toggleable__label {background-color: #d4ebff;}#sk-container-id-1 div.sk-label input.sk-toggleable__control:checked~label.sk-toggleable__label {background-color: #d4ebff;}#sk-container-id-1 input.sk-hidden--visually {border: 0;clip: rect(1px 1px 1px 1px);clip: rect(1px, 1px, 1px, 1px);height: 1px;margin: -1px;overflow: hidden;padding: 0;position: absolute;width: 1px;}#sk-container-id-1 div.sk-estimator {font-family: monospace;background-color: #f0f8ff;border: 1px dotted black;border-radius: 0.25em;box-sizing: border-box;margin-bottom: 0.5em;}#sk-container-id-1 div.sk-estimator:hover {background-color: #d4ebff;}#sk-container-id-1 div.sk-parallel-item::after {content: \"\";width: 100%;border-bottom: 1px solid gray;flex-grow: 1;}#sk-container-id-1 div.sk-label:hover label.sk-toggleable__label {background-color: #d4ebff;}#sk-container-id-1 div.sk-serial::before {content: \"\";position: absolute;border-left: 1px solid gray;box-sizing: border-box;top: 0;bottom: 0;left: 50%;z-index: 0;}#sk-container-id-1 div.sk-serial {display: flex;flex-direction: column;align-items: center;background-color: white;padding-right: 0.2em;padding-left: 0.2em;position: relative;}#sk-container-id-1 div.sk-item {position: relative;z-index: 1;}#sk-container-id-1 div.sk-parallel {display: flex;align-items: stretch;justify-content: center;background-color: white;position: relative;}#sk-container-id-1 div.sk-item::before, #sk-container-id-1 div.sk-parallel-item::before {content: \"\";position: absolute;border-left: 1px solid gray;box-sizing: border-box;top: 0;bottom: 0;left: 50%;z-index: -1;}#sk-container-id-1 div.sk-parallel-item {display: flex;flex-direction: column;z-index: 1;position: relative;background-color: white;}#sk-container-id-1 div.sk-parallel-item:first-child::after {align-self: flex-end;width: 50%;}#sk-container-id-1 div.sk-parallel-item:last-child::after {align-self: flex-start;width: 50%;}#sk-container-id-1 div.sk-parallel-item:only-child::after {width: 0;}#sk-container-id-1 div.sk-dashed-wrapped {border: 1px dashed gray;margin: 0 0.4em 0.5em 0.4em;box-sizing: border-box;padding-bottom: 0.4em;background-color: white;}#sk-container-id-1 div.sk-label label {font-family: monospace;font-weight: bold;display: inline-block;line-height: 1.2em;}#sk-container-id-1 div.sk-label-container {text-align: center;}#sk-container-id-1 div.sk-container {/* jupyter's `normalize.less` sets `[hidden] { display: none; }` but bootstrap.min.css set `[hidden] { display: none !important; }` so we also need the `!important` here to be able to override the default hidden behavior on the sphinx rendered scikit-learn.org. See: https://github.com/scikit-learn/scikit-learn/issues/21755 */display: inline-block !important;position: relative;}#sk-container-id-1 div.sk-text-repr-fallback {display: none;}</style><div id=\"sk-container-id-1\" class=\"sk-top-container\"><div class=\"sk-text-repr-fallback\"><pre>GridSearchCV(cv=5,\n",
       "             estimator=LogisticRegression(class_weight=&#x27;balanced&#x27;,\n",
       "                                          multi_class=&#x27;multinomial&#x27;),\n",
       "             param_grid={&#x27;C&#x27;: [0.001, 0.01, 0.1, 1, 10],\n",
       "                         &#x27;solver&#x27;: [&#x27;lbfgs&#x27;, &#x27;liblinear&#x27;, &#x27;newton-cg&#x27;]},\n",
       "             scoring=&#x27;accuracy&#x27;)</pre><b>In a Jupyter environment, please rerun this cell to show the HTML representation or trust the notebook. <br />On GitHub, the HTML representation is unable to render, please try loading this page with nbviewer.org.</b></div><div class=\"sk-container\" hidden><div class=\"sk-item sk-dashed-wrapped\"><div class=\"sk-label-container\"><div class=\"sk-label sk-toggleable\"><input class=\"sk-toggleable__control sk-hidden--visually\" id=\"sk-estimator-id-1\" type=\"checkbox\" ><label for=\"sk-estimator-id-1\" class=\"sk-toggleable__label sk-toggleable__label-arrow\">GridSearchCV</label><div class=\"sk-toggleable__content\"><pre>GridSearchCV(cv=5,\n",
       "             estimator=LogisticRegression(class_weight=&#x27;balanced&#x27;,\n",
       "                                          multi_class=&#x27;multinomial&#x27;),\n",
       "             param_grid={&#x27;C&#x27;: [0.001, 0.01, 0.1, 1, 10],\n",
       "                         &#x27;solver&#x27;: [&#x27;lbfgs&#x27;, &#x27;liblinear&#x27;, &#x27;newton-cg&#x27;]},\n",
       "             scoring=&#x27;accuracy&#x27;)</pre></div></div></div><div class=\"sk-parallel\"><div class=\"sk-parallel-item\"><div class=\"sk-item\"><div class=\"sk-label-container\"><div class=\"sk-label sk-toggleable\"><input class=\"sk-toggleable__control sk-hidden--visually\" id=\"sk-estimator-id-2\" type=\"checkbox\" ><label for=\"sk-estimator-id-2\" class=\"sk-toggleable__label sk-toggleable__label-arrow\">estimator: LogisticRegression</label><div class=\"sk-toggleable__content\"><pre>LogisticRegression(class_weight=&#x27;balanced&#x27;, multi_class=&#x27;multinomial&#x27;)</pre></div></div></div><div class=\"sk-serial\"><div class=\"sk-item\"><div class=\"sk-estimator sk-toggleable\"><input class=\"sk-toggleable__control sk-hidden--visually\" id=\"sk-estimator-id-3\" type=\"checkbox\" ><label for=\"sk-estimator-id-3\" class=\"sk-toggleable__label sk-toggleable__label-arrow\">LogisticRegression</label><div class=\"sk-toggleable__content\"><pre>LogisticRegression(class_weight=&#x27;balanced&#x27;, multi_class=&#x27;multinomial&#x27;)</pre></div></div></div></div></div></div></div></div></div></div>"
      ],
      "text/plain": [
       "GridSearchCV(cv=5,\n",
       "             estimator=LogisticRegression(class_weight='balanced',\n",
       "                                          multi_class='multinomial'),\n",
       "             param_grid={'C': [0.001, 0.01, 0.1, 1, 10],\n",
       "                         'solver': ['lbfgs', 'liblinear', 'newton-cg']},\n",
       "             scoring='accuracy')"
      ]
     },
     "execution_count": 23,
     "metadata": {},
     "output_type": "execute_result"
    }
   ],
   "source": [
    "# Grid Search na trening podacima\n",
    "grid_search.fit(X_train, y_train)"
   ]
  },
  {
   "cell_type": "code",
   "execution_count": 24,
   "id": "9469870d",
   "metadata": {},
   "outputs": [],
   "source": [
    "# Najbolji model i najbolji parametri\n",
    "best_model = grid_search.best_estimator_\n",
    "best_params = grid_search.best_params_"
   ]
  },
  {
   "cell_type": "code",
   "execution_count": 25,
   "id": "dc32fafa",
   "metadata": {},
   "outputs": [
    {
     "name": "stdout",
     "output_type": "stream",
     "text": [
      "Najbolji model: LogisticRegression(C=0.1, class_weight='balanced', multi_class='multinomial',\n",
      "                   solver='newton-cg')\n"
     ]
    }
   ],
   "source": [
    "print(\"Najbolji model:\", best_model)"
   ]
  },
  {
   "cell_type": "code",
   "execution_count": 26,
   "id": "68e3ac60",
   "metadata": {},
   "outputs": [
    {
     "name": "stdout",
     "output_type": "stream",
     "text": [
      "Najbolji parametri: {'C': 0.1, 'solver': 'newton-cg'}\n"
     ]
    }
   ],
   "source": [
    "print(\"Najbolji parametri:\", best_params)"
   ]
  },
  {
   "cell_type": "code",
   "execution_count": 27,
   "id": "e962e03b",
   "metadata": {},
   "outputs": [],
   "source": [
    "# Koristimo model sa najboljim parametrima\n",
    "best_logistic_model = LogisticRegression(C=0.1, class_weight='balanced', multi_class='multinomial', solver='newton-cg')"
   ]
  },
  {
   "cell_type": "code",
   "execution_count": 28,
   "id": "b5d0bc4d",
   "metadata": {},
   "outputs": [
    {
     "data": {
      "text/html": [
       "<style>#sk-container-id-2 {color: black;}#sk-container-id-2 pre{padding: 0;}#sk-container-id-2 div.sk-toggleable {background-color: white;}#sk-container-id-2 label.sk-toggleable__label {cursor: pointer;display: block;width: 100%;margin-bottom: 0;padding: 0.3em;box-sizing: border-box;text-align: center;}#sk-container-id-2 label.sk-toggleable__label-arrow:before {content: \"▸\";float: left;margin-right: 0.25em;color: #696969;}#sk-container-id-2 label.sk-toggleable__label-arrow:hover:before {color: black;}#sk-container-id-2 div.sk-estimator:hover label.sk-toggleable__label-arrow:before {color: black;}#sk-container-id-2 div.sk-toggleable__content {max-height: 0;max-width: 0;overflow: hidden;text-align: left;background-color: #f0f8ff;}#sk-container-id-2 div.sk-toggleable__content pre {margin: 0.2em;color: black;border-radius: 0.25em;background-color: #f0f8ff;}#sk-container-id-2 input.sk-toggleable__control:checked~div.sk-toggleable__content {max-height: 200px;max-width: 100%;overflow: auto;}#sk-container-id-2 input.sk-toggleable__control:checked~label.sk-toggleable__label-arrow:before {content: \"▾\";}#sk-container-id-2 div.sk-estimator input.sk-toggleable__control:checked~label.sk-toggleable__label {background-color: #d4ebff;}#sk-container-id-2 div.sk-label input.sk-toggleable__control:checked~label.sk-toggleable__label {background-color: #d4ebff;}#sk-container-id-2 input.sk-hidden--visually {border: 0;clip: rect(1px 1px 1px 1px);clip: rect(1px, 1px, 1px, 1px);height: 1px;margin: -1px;overflow: hidden;padding: 0;position: absolute;width: 1px;}#sk-container-id-2 div.sk-estimator {font-family: monospace;background-color: #f0f8ff;border: 1px dotted black;border-radius: 0.25em;box-sizing: border-box;margin-bottom: 0.5em;}#sk-container-id-2 div.sk-estimator:hover {background-color: #d4ebff;}#sk-container-id-2 div.sk-parallel-item::after {content: \"\";width: 100%;border-bottom: 1px solid gray;flex-grow: 1;}#sk-container-id-2 div.sk-label:hover label.sk-toggleable__label {background-color: #d4ebff;}#sk-container-id-2 div.sk-serial::before {content: \"\";position: absolute;border-left: 1px solid gray;box-sizing: border-box;top: 0;bottom: 0;left: 50%;z-index: 0;}#sk-container-id-2 div.sk-serial {display: flex;flex-direction: column;align-items: center;background-color: white;padding-right: 0.2em;padding-left: 0.2em;position: relative;}#sk-container-id-2 div.sk-item {position: relative;z-index: 1;}#sk-container-id-2 div.sk-parallel {display: flex;align-items: stretch;justify-content: center;background-color: white;position: relative;}#sk-container-id-2 div.sk-item::before, #sk-container-id-2 div.sk-parallel-item::before {content: \"\";position: absolute;border-left: 1px solid gray;box-sizing: border-box;top: 0;bottom: 0;left: 50%;z-index: -1;}#sk-container-id-2 div.sk-parallel-item {display: flex;flex-direction: column;z-index: 1;position: relative;background-color: white;}#sk-container-id-2 div.sk-parallel-item:first-child::after {align-self: flex-end;width: 50%;}#sk-container-id-2 div.sk-parallel-item:last-child::after {align-self: flex-start;width: 50%;}#sk-container-id-2 div.sk-parallel-item:only-child::after {width: 0;}#sk-container-id-2 div.sk-dashed-wrapped {border: 1px dashed gray;margin: 0 0.4em 0.5em 0.4em;box-sizing: border-box;padding-bottom: 0.4em;background-color: white;}#sk-container-id-2 div.sk-label label {font-family: monospace;font-weight: bold;display: inline-block;line-height: 1.2em;}#sk-container-id-2 div.sk-label-container {text-align: center;}#sk-container-id-2 div.sk-container {/* jupyter's `normalize.less` sets `[hidden] { display: none; }` but bootstrap.min.css set `[hidden] { display: none !important; }` so we also need the `!important` here to be able to override the default hidden behavior on the sphinx rendered scikit-learn.org. See: https://github.com/scikit-learn/scikit-learn/issues/21755 */display: inline-block !important;position: relative;}#sk-container-id-2 div.sk-text-repr-fallback {display: none;}</style><div id=\"sk-container-id-2\" class=\"sk-top-container\"><div class=\"sk-text-repr-fallback\"><pre>LogisticRegression(C=0.1, class_weight=&#x27;balanced&#x27;, multi_class=&#x27;multinomial&#x27;,\n",
       "                   solver=&#x27;newton-cg&#x27;)</pre><b>In a Jupyter environment, please rerun this cell to show the HTML representation or trust the notebook. <br />On GitHub, the HTML representation is unable to render, please try loading this page with nbviewer.org.</b></div><div class=\"sk-container\" hidden><div class=\"sk-item\"><div class=\"sk-estimator sk-toggleable\"><input class=\"sk-toggleable__control sk-hidden--visually\" id=\"sk-estimator-id-4\" type=\"checkbox\" checked><label for=\"sk-estimator-id-4\" class=\"sk-toggleable__label sk-toggleable__label-arrow\">LogisticRegression</label><div class=\"sk-toggleable__content\"><pre>LogisticRegression(C=0.1, class_weight=&#x27;balanced&#x27;, multi_class=&#x27;multinomial&#x27;,\n",
       "                   solver=&#x27;newton-cg&#x27;)</pre></div></div></div></div></div>"
      ],
      "text/plain": [
       "LogisticRegression(C=0.1, class_weight='balanced', multi_class='multinomial',\n",
       "                   solver='newton-cg')"
      ]
     },
     "execution_count": 28,
     "metadata": {},
     "output_type": "execute_result"
    }
   ],
   "source": [
    "best_logistic_model.fit(X_train, y_train)"
   ]
  },
  {
   "cell_type": "code",
   "execution_count": 29,
   "id": "8e3f91a6",
   "metadata": {},
   "outputs": [],
   "source": [
    "# Predviđanje na validacionom skupu\n",
    "y_val_pred = best_logistic_model.predict(X_val)"
   ]
  },
  {
   "cell_type": "code",
   "execution_count": 30,
   "id": "ff315c27",
   "metadata": {},
   "outputs": [
    {
     "name": "stdout",
     "output_type": "stream",
     "text": [
      "Tačnost: 0.7334963325183375\n"
     ]
    }
   ],
   "source": [
    "# Evaluacija modela\n",
    "# Računanje tačnosti\n",
    "accuracy = accuracy_score(y_val, y_val_pred)\n",
    "print(\"Tačnost:\", accuracy)"
   ]
  },
  {
   "cell_type": "markdown",
   "id": "75016414",
   "metadata": {},
   "source": [
    "Tačnost (accuracy) je mera koja nam govori koliko tačnih predikcija model daje u odnosu na ukupan broj instanci u validacionom skupu. U ovom slučaju, tačnost iznosi 0.73, što znači da je model tačno klasifikovao oko 73% instanci na validacionom skupu."
   ]
  },
  {
   "cell_type": "code",
   "execution_count": 31,
   "id": "f410330d",
   "metadata": {},
   "outputs": [
    {
     "name": "stdout",
     "output_type": "stream",
     "text": [
      "Izveštaj o klasifikaciji:\n",
      "               precision    recall  f1-score   support\n",
      "\n",
      "       niska       0.92      0.75      0.83       580\n",
      "     srednja       0.63      0.66      0.64       210\n",
      "      visoka       0.22      0.96      0.36        28\n",
      "\n",
      "    accuracy                           0.73       818\n",
      "   macro avg       0.59      0.79      0.61       818\n",
      "weighted avg       0.82      0.73      0.76       818\n",
      "\n"
     ]
    }
   ],
   "source": [
    "# Izveštaj o klasifikaciji\n",
    "report = classification_report(y_val, y_val_pred)\n",
    "print(\"Izveštaj o klasifikaciji:\\n\", report)"
   ]
  },
  {
   "cell_type": "markdown",
   "id": "63c48ebf",
   "metadata": {},
   "source": [
    "Ovaj izveštaj pruža detaljne informacije o performansama modela za svaku od klasa. Na primer, za klasu \"niska\" (low) preciznost iznosi 0.92, što znači da je model tačno klasifikovao 92% instanci koje pripadaju toj klasi. Recall (odziv) za istu klasu iznosi 0.75, što ukazuje na to da je model identifikovao 75% instanci te klase. F1-skor je harmonijska sredina preciznosti i odziva i iznosi 0.83 za \"niska\" klasu. Izveštaj pruža informacije za sve tri klase."
   ]
  },
  {
   "cell_type": "code",
   "execution_count": 32,
   "id": "9453f7ee",
   "metadata": {},
   "outputs": [],
   "source": [
    "# ROC krive i AUC vrednosti (za svaku klasu)\n",
    "y_val_probs = best_logistic_model.predict_proba(X_val)\n",
    "n_classes = len(best_logistic_model.classes_)"
   ]
  },
  {
   "cell_type": "code",
   "execution_count": 33,
   "id": "d9412d2e",
   "metadata": {},
   "outputs": [
    {
     "name": "stdout",
     "output_type": "stream",
     "text": [
      "AUC za klasu niska: 0.8890683859750798\n",
      "AUC za klasu srednja: 0.8728540100250628\n",
      "AUC za klasu visoka: 0.9717902350813743\n"
     ]
    }
   ],
   "source": [
    "# Za svaku klasu\n",
    "for i in range(n_classes):\n",
    "    fpr, tpr, _ = roc_curve(y_val, y_val_probs[:, i], pos_label=best_logistic_model.classes_[i])\n",
    "    roc_auc = auc(fpr, tpr)\n",
    "    print(f\"AUC za klasu {best_logistic_model.classes_[i]}:\", roc_auc)\n",
    "    "
   ]
  },
  {
   "cell_type": "markdown",
   "id": "ebf69d21",
   "metadata": {},
   "source": [
    "ROC (Receiver Operating Characteristic) kriva i AUC (Area Under the Curve) vrednosti koriste se za procenu performansi modela u pogledu procene verovatnoća za različite klase. AUC vrednosti se koriste za merenje koliko dobro model razdvaja klase. \n",
    "\n",
    "Naš model ima dobre AUC vrednosti za sve tri klase: visoka (0.97), srednja (0.87) i niska (0.88). Visoka AUC vrednost ukazuje na dobro razdvajanje klasa."
   ]
  },
  {
   "cell_type": "code",
   "execution_count": 34,
   "id": "5df2050f",
   "metadata": {},
   "outputs": [
    {
     "name": "stdout",
     "output_type": "stream",
     "text": [
      "Matrica konfuzije:\n",
      " [[435  82  63]\n",
      " [ 38 138  34]\n",
      " [  1   0  27]]\n"
     ]
    }
   ],
   "source": [
    "# Matrica konfuzije\n",
    "confusion = confusion_matrix(y_val, y_val_pred)\n",
    "print(\"Matrica konfuzije:\\n\", confusion)"
   ]
  },
  {
   "cell_type": "markdown",
   "id": "bb60a941",
   "metadata": {},
   "source": [
    "Matrica konfuzije prikazuje broj tačnih i netačnih klasifikacija za svaku od klasa. Iz matrice možemo videti da model dobro radi u klasifikaciji \"niska\" i \"srednja\" klasa, dok ima manje uspeha sa \"visoka\" klasom."
   ]
  },
  {
   "cell_type": "markdown",
   "id": "2730dda2",
   "metadata": {},
   "source": [
    "    Zakljucak: \n",
    "    Model logističke regresije se čini da je najbolji u identifikaciji \"visokih\" ocena, ali ima prostora za poboljšanja u klasifikaciji \"niskih\" i \"srednjih\" ocena."
   ]
  },
  {
   "cell_type": "markdown",
   "id": "1af87dba",
   "metadata": {},
   "source": [
    "# Random Forest"
   ]
  },
  {
   "cell_type": "markdown",
   "id": "7e647541",
   "metadata": {},
   "source": [
    "    Primena grid search-a za model Random Forest kako bismo pronašli optimalne hiperparametre."
   ]
  },
  {
   "cell_type": "code",
   "execution_count": 35,
   "id": "74c98754",
   "metadata": {},
   "outputs": [],
   "source": [
    "#Definisanje parametara za pretragu\n",
    "param_grid = {\n",
    "    'n_estimators': [100, 200, 300],\n",
    "    'max_depth': [None, 10, 20],\n",
    "    'class_weight': ['balanced', None]\n",
    "}"
   ]
  },
  {
   "cell_type": "code",
   "execution_count": 36,
   "id": "cc5bf4bb",
   "metadata": {},
   "outputs": [],
   "source": [
    "# Kreiranje modela\n",
    "rf_model = RandomForestClassifier(random_state=42)"
   ]
  },
  {
   "cell_type": "code",
   "execution_count": 37,
   "id": "f60ba505",
   "metadata": {},
   "outputs": [],
   "source": [
    "# Inicijalizacija GridSearchCV\n",
    "grid_search = GridSearchCV(rf_model, param_grid, cv=5, scoring='accuracy')"
   ]
  },
  {
   "cell_type": "code",
   "execution_count": 38,
   "id": "ce3654cb",
   "metadata": {},
   "outputs": [
    {
     "data": {
      "text/html": [
       "<style>#sk-container-id-3 {color: black;}#sk-container-id-3 pre{padding: 0;}#sk-container-id-3 div.sk-toggleable {background-color: white;}#sk-container-id-3 label.sk-toggleable__label {cursor: pointer;display: block;width: 100%;margin-bottom: 0;padding: 0.3em;box-sizing: border-box;text-align: center;}#sk-container-id-3 label.sk-toggleable__label-arrow:before {content: \"▸\";float: left;margin-right: 0.25em;color: #696969;}#sk-container-id-3 label.sk-toggleable__label-arrow:hover:before {color: black;}#sk-container-id-3 div.sk-estimator:hover label.sk-toggleable__label-arrow:before {color: black;}#sk-container-id-3 div.sk-toggleable__content {max-height: 0;max-width: 0;overflow: hidden;text-align: left;background-color: #f0f8ff;}#sk-container-id-3 div.sk-toggleable__content pre {margin: 0.2em;color: black;border-radius: 0.25em;background-color: #f0f8ff;}#sk-container-id-3 input.sk-toggleable__control:checked~div.sk-toggleable__content {max-height: 200px;max-width: 100%;overflow: auto;}#sk-container-id-3 input.sk-toggleable__control:checked~label.sk-toggleable__label-arrow:before {content: \"▾\";}#sk-container-id-3 div.sk-estimator input.sk-toggleable__control:checked~label.sk-toggleable__label {background-color: #d4ebff;}#sk-container-id-3 div.sk-label input.sk-toggleable__control:checked~label.sk-toggleable__label {background-color: #d4ebff;}#sk-container-id-3 input.sk-hidden--visually {border: 0;clip: rect(1px 1px 1px 1px);clip: rect(1px, 1px, 1px, 1px);height: 1px;margin: -1px;overflow: hidden;padding: 0;position: absolute;width: 1px;}#sk-container-id-3 div.sk-estimator {font-family: monospace;background-color: #f0f8ff;border: 1px dotted black;border-radius: 0.25em;box-sizing: border-box;margin-bottom: 0.5em;}#sk-container-id-3 div.sk-estimator:hover {background-color: #d4ebff;}#sk-container-id-3 div.sk-parallel-item::after {content: \"\";width: 100%;border-bottom: 1px solid gray;flex-grow: 1;}#sk-container-id-3 div.sk-label:hover label.sk-toggleable__label {background-color: #d4ebff;}#sk-container-id-3 div.sk-serial::before {content: \"\";position: absolute;border-left: 1px solid gray;box-sizing: border-box;top: 0;bottom: 0;left: 50%;z-index: 0;}#sk-container-id-3 div.sk-serial {display: flex;flex-direction: column;align-items: center;background-color: white;padding-right: 0.2em;padding-left: 0.2em;position: relative;}#sk-container-id-3 div.sk-item {position: relative;z-index: 1;}#sk-container-id-3 div.sk-parallel {display: flex;align-items: stretch;justify-content: center;background-color: white;position: relative;}#sk-container-id-3 div.sk-item::before, #sk-container-id-3 div.sk-parallel-item::before {content: \"\";position: absolute;border-left: 1px solid gray;box-sizing: border-box;top: 0;bottom: 0;left: 50%;z-index: -1;}#sk-container-id-3 div.sk-parallel-item {display: flex;flex-direction: column;z-index: 1;position: relative;background-color: white;}#sk-container-id-3 div.sk-parallel-item:first-child::after {align-self: flex-end;width: 50%;}#sk-container-id-3 div.sk-parallel-item:last-child::after {align-self: flex-start;width: 50%;}#sk-container-id-3 div.sk-parallel-item:only-child::after {width: 0;}#sk-container-id-3 div.sk-dashed-wrapped {border: 1px dashed gray;margin: 0 0.4em 0.5em 0.4em;box-sizing: border-box;padding-bottom: 0.4em;background-color: white;}#sk-container-id-3 div.sk-label label {font-family: monospace;font-weight: bold;display: inline-block;line-height: 1.2em;}#sk-container-id-3 div.sk-label-container {text-align: center;}#sk-container-id-3 div.sk-container {/* jupyter's `normalize.less` sets `[hidden] { display: none; }` but bootstrap.min.css set `[hidden] { display: none !important; }` so we also need the `!important` here to be able to override the default hidden behavior on the sphinx rendered scikit-learn.org. See: https://github.com/scikit-learn/scikit-learn/issues/21755 */display: inline-block !important;position: relative;}#sk-container-id-3 div.sk-text-repr-fallback {display: none;}</style><div id=\"sk-container-id-3\" class=\"sk-top-container\"><div class=\"sk-text-repr-fallback\"><pre>GridSearchCV(cv=5, estimator=RandomForestClassifier(random_state=42),\n",
       "             param_grid={&#x27;class_weight&#x27;: [&#x27;balanced&#x27;, None],\n",
       "                         &#x27;max_depth&#x27;: [None, 10, 20],\n",
       "                         &#x27;n_estimators&#x27;: [100, 200, 300]},\n",
       "             scoring=&#x27;accuracy&#x27;)</pre><b>In a Jupyter environment, please rerun this cell to show the HTML representation or trust the notebook. <br />On GitHub, the HTML representation is unable to render, please try loading this page with nbviewer.org.</b></div><div class=\"sk-container\" hidden><div class=\"sk-item sk-dashed-wrapped\"><div class=\"sk-label-container\"><div class=\"sk-label sk-toggleable\"><input class=\"sk-toggleable__control sk-hidden--visually\" id=\"sk-estimator-id-5\" type=\"checkbox\" ><label for=\"sk-estimator-id-5\" class=\"sk-toggleable__label sk-toggleable__label-arrow\">GridSearchCV</label><div class=\"sk-toggleable__content\"><pre>GridSearchCV(cv=5, estimator=RandomForestClassifier(random_state=42),\n",
       "             param_grid={&#x27;class_weight&#x27;: [&#x27;balanced&#x27;, None],\n",
       "                         &#x27;max_depth&#x27;: [None, 10, 20],\n",
       "                         &#x27;n_estimators&#x27;: [100, 200, 300]},\n",
       "             scoring=&#x27;accuracy&#x27;)</pre></div></div></div><div class=\"sk-parallel\"><div class=\"sk-parallel-item\"><div class=\"sk-item\"><div class=\"sk-label-container\"><div class=\"sk-label sk-toggleable\"><input class=\"sk-toggleable__control sk-hidden--visually\" id=\"sk-estimator-id-6\" type=\"checkbox\" ><label for=\"sk-estimator-id-6\" class=\"sk-toggleable__label sk-toggleable__label-arrow\">estimator: RandomForestClassifier</label><div class=\"sk-toggleable__content\"><pre>RandomForestClassifier(random_state=42)</pre></div></div></div><div class=\"sk-serial\"><div class=\"sk-item\"><div class=\"sk-estimator sk-toggleable\"><input class=\"sk-toggleable__control sk-hidden--visually\" id=\"sk-estimator-id-7\" type=\"checkbox\" ><label for=\"sk-estimator-id-7\" class=\"sk-toggleable__label sk-toggleable__label-arrow\">RandomForestClassifier</label><div class=\"sk-toggleable__content\"><pre>RandomForestClassifier(random_state=42)</pre></div></div></div></div></div></div></div></div></div></div>"
      ],
      "text/plain": [
       "GridSearchCV(cv=5, estimator=RandomForestClassifier(random_state=42),\n",
       "             param_grid={'class_weight': ['balanced', None],\n",
       "                         'max_depth': [None, 10, 20],\n",
       "                         'n_estimators': [100, 200, 300]},\n",
       "             scoring='accuracy')"
      ]
     },
     "execution_count": 38,
     "metadata": {},
     "output_type": "execute_result"
    }
   ],
   "source": [
    "# Treniranje modela na trening skupu\n",
    "grid_search.fit(X_train, y_train)"
   ]
  },
  {
   "cell_type": "code",
   "execution_count": 39,
   "id": "559dc812",
   "metadata": {},
   "outputs": [
    {
     "name": "stdout",
     "output_type": "stream",
     "text": [
      "Najbolji model: RandomForestClassifier(class_weight='balanced', n_estimators=200,\n",
      "                       random_state=42)\n"
     ]
    }
   ],
   "source": [
    "# Najbolji model i parametri\n",
    "best_rf_model = grid_search.best_estimator_\n",
    "print(\"Najbolji model:\", best_rf_model)"
   ]
  },
  {
   "cell_type": "code",
   "execution_count": 40,
   "id": "4c0c0955",
   "metadata": {},
   "outputs": [
    {
     "name": "stdout",
     "output_type": "stream",
     "text": [
      "Najbolji parametri: {'class_weight': 'balanced', 'max_depth': None, 'n_estimators': 200}\n"
     ]
    }
   ],
   "source": [
    "best_params = grid_search.best_params_\n",
    "print(\"Najbolji parametri:\", best_params)"
   ]
  },
  {
   "cell_type": "code",
   "execution_count": 41,
   "id": "3093f9d8",
   "metadata": {},
   "outputs": [],
   "source": [
    "#model sa najboljim parametrima\n",
    "best_rf_model = RandomForestClassifier(class_weight='balanced', random_state=42, n_estimators=200)"
   ]
  },
  {
   "cell_type": "code",
   "execution_count": 42,
   "id": "011a2b00",
   "metadata": {},
   "outputs": [
    {
     "data": {
      "text/html": [
       "<style>#sk-container-id-4 {color: black;}#sk-container-id-4 pre{padding: 0;}#sk-container-id-4 div.sk-toggleable {background-color: white;}#sk-container-id-4 label.sk-toggleable__label {cursor: pointer;display: block;width: 100%;margin-bottom: 0;padding: 0.3em;box-sizing: border-box;text-align: center;}#sk-container-id-4 label.sk-toggleable__label-arrow:before {content: \"▸\";float: left;margin-right: 0.25em;color: #696969;}#sk-container-id-4 label.sk-toggleable__label-arrow:hover:before {color: black;}#sk-container-id-4 div.sk-estimator:hover label.sk-toggleable__label-arrow:before {color: black;}#sk-container-id-4 div.sk-toggleable__content {max-height: 0;max-width: 0;overflow: hidden;text-align: left;background-color: #f0f8ff;}#sk-container-id-4 div.sk-toggleable__content pre {margin: 0.2em;color: black;border-radius: 0.25em;background-color: #f0f8ff;}#sk-container-id-4 input.sk-toggleable__control:checked~div.sk-toggleable__content {max-height: 200px;max-width: 100%;overflow: auto;}#sk-container-id-4 input.sk-toggleable__control:checked~label.sk-toggleable__label-arrow:before {content: \"▾\";}#sk-container-id-4 div.sk-estimator input.sk-toggleable__control:checked~label.sk-toggleable__label {background-color: #d4ebff;}#sk-container-id-4 div.sk-label input.sk-toggleable__control:checked~label.sk-toggleable__label {background-color: #d4ebff;}#sk-container-id-4 input.sk-hidden--visually {border: 0;clip: rect(1px 1px 1px 1px);clip: rect(1px, 1px, 1px, 1px);height: 1px;margin: -1px;overflow: hidden;padding: 0;position: absolute;width: 1px;}#sk-container-id-4 div.sk-estimator {font-family: monospace;background-color: #f0f8ff;border: 1px dotted black;border-radius: 0.25em;box-sizing: border-box;margin-bottom: 0.5em;}#sk-container-id-4 div.sk-estimator:hover {background-color: #d4ebff;}#sk-container-id-4 div.sk-parallel-item::after {content: \"\";width: 100%;border-bottom: 1px solid gray;flex-grow: 1;}#sk-container-id-4 div.sk-label:hover label.sk-toggleable__label {background-color: #d4ebff;}#sk-container-id-4 div.sk-serial::before {content: \"\";position: absolute;border-left: 1px solid gray;box-sizing: border-box;top: 0;bottom: 0;left: 50%;z-index: 0;}#sk-container-id-4 div.sk-serial {display: flex;flex-direction: column;align-items: center;background-color: white;padding-right: 0.2em;padding-left: 0.2em;position: relative;}#sk-container-id-4 div.sk-item {position: relative;z-index: 1;}#sk-container-id-4 div.sk-parallel {display: flex;align-items: stretch;justify-content: center;background-color: white;position: relative;}#sk-container-id-4 div.sk-item::before, #sk-container-id-4 div.sk-parallel-item::before {content: \"\";position: absolute;border-left: 1px solid gray;box-sizing: border-box;top: 0;bottom: 0;left: 50%;z-index: -1;}#sk-container-id-4 div.sk-parallel-item {display: flex;flex-direction: column;z-index: 1;position: relative;background-color: white;}#sk-container-id-4 div.sk-parallel-item:first-child::after {align-self: flex-end;width: 50%;}#sk-container-id-4 div.sk-parallel-item:last-child::after {align-self: flex-start;width: 50%;}#sk-container-id-4 div.sk-parallel-item:only-child::after {width: 0;}#sk-container-id-4 div.sk-dashed-wrapped {border: 1px dashed gray;margin: 0 0.4em 0.5em 0.4em;box-sizing: border-box;padding-bottom: 0.4em;background-color: white;}#sk-container-id-4 div.sk-label label {font-family: monospace;font-weight: bold;display: inline-block;line-height: 1.2em;}#sk-container-id-4 div.sk-label-container {text-align: center;}#sk-container-id-4 div.sk-container {/* jupyter's `normalize.less` sets `[hidden] { display: none; }` but bootstrap.min.css set `[hidden] { display: none !important; }` so we also need the `!important` here to be able to override the default hidden behavior on the sphinx rendered scikit-learn.org. See: https://github.com/scikit-learn/scikit-learn/issues/21755 */display: inline-block !important;position: relative;}#sk-container-id-4 div.sk-text-repr-fallback {display: none;}</style><div id=\"sk-container-id-4\" class=\"sk-top-container\"><div class=\"sk-text-repr-fallback\"><pre>RandomForestClassifier(class_weight=&#x27;balanced&#x27;, n_estimators=200,\n",
       "                       random_state=42)</pre><b>In a Jupyter environment, please rerun this cell to show the HTML representation or trust the notebook. <br />On GitHub, the HTML representation is unable to render, please try loading this page with nbviewer.org.</b></div><div class=\"sk-container\" hidden><div class=\"sk-item\"><div class=\"sk-estimator sk-toggleable\"><input class=\"sk-toggleable__control sk-hidden--visually\" id=\"sk-estimator-id-8\" type=\"checkbox\" checked><label for=\"sk-estimator-id-8\" class=\"sk-toggleable__label sk-toggleable__label-arrow\">RandomForestClassifier</label><div class=\"sk-toggleable__content\"><pre>RandomForestClassifier(class_weight=&#x27;balanced&#x27;, n_estimators=200,\n",
       "                       random_state=42)</pre></div></div></div></div></div>"
      ],
      "text/plain": [
       "RandomForestClassifier(class_weight='balanced', n_estimators=200,\n",
       "                       random_state=42)"
      ]
     },
     "execution_count": 42,
     "metadata": {},
     "output_type": "execute_result"
    }
   ],
   "source": [
    "best_rf_model.fit(X_train, y_train)"
   ]
  },
  {
   "cell_type": "code",
   "execution_count": 43,
   "id": "c1d8a4f8",
   "metadata": {},
   "outputs": [],
   "source": [
    "# Predviđanje na validacionom skupu\n",
    "y_val_pred_rf = best_rf_model.predict(X_val)"
   ]
  },
  {
   "cell_type": "code",
   "execution_count": 44,
   "id": "8049d8d6",
   "metadata": {},
   "outputs": [
    {
     "name": "stdout",
     "output_type": "stream",
     "text": [
      "Tačnost: 0.9425427872860636\n"
     ]
    }
   ],
   "source": [
    "# Evaluacija modela\n",
    "accuracy_rf = accuracy_score(y_val, y_val_pred_rf)\n",
    "print(\"Tačnost:\", accuracy_rf)"
   ]
  },
  {
   "cell_type": "markdown",
   "id": "7edc8947",
   "metadata": {},
   "source": [
    "Tačnost modela (Accuracy) iznosi 0.942, što ukazuje na dobru sposobnost modela da tačno klasifikuje instance."
   ]
  },
  {
   "cell_type": "code",
   "execution_count": 45,
   "id": "4f0758c8",
   "metadata": {},
   "outputs": [
    {
     "name": "stdout",
     "output_type": "stream",
     "text": [
      "Izveštaj o klasifikaciji:\n",
      "               precision    recall  f1-score   support\n",
      "\n",
      "       niska       0.94      0.98      0.96       580\n",
      "     srednja       0.94      0.88      0.91       210\n",
      "      visoka       0.90      0.64      0.75        28\n",
      "\n",
      "    accuracy                           0.94       818\n",
      "   macro avg       0.93      0.83      0.87       818\n",
      "weighted avg       0.94      0.94      0.94       818\n",
      "\n"
     ]
    }
   ],
   "source": [
    "# Izveštaj o klasifikaciji\n",
    "report_rf = classification_report(y_val, y_val_pred_rf)\n",
    "print(\"Izveštaj o klasifikaciji:\\n\", report_rf)"
   ]
  },
  {
   "cell_type": "markdown",
   "id": "e67555a7",
   "metadata": {},
   "source": [
    "Iz izveštaja o klasifikaciji možemo videti preciznost, odziv (recall) i F1-skor za svaku od klasa (niska, srednja, visoka). \n",
    "\n",
    "Visoka preciznost i odziv za nisku i srednju klasu ukazuju na dobro modeliranje ovih klasa, dok niži odziv i preciznost za visoku klasu sugerišu da model ima veće poteškoće u klasifikaciji ove klase.\n",
    "\n",
    "F1-skor je mera balansa između preciznosti i odziva. Za nisku klasu, F1-skor iznosi 0.96, za srednju klasu 0.91, a za visoku klasu 0.75.\n",
    "\n",
    "U ukupnom weighted avg F1-skor iznosi 0.94, što ukazuje na dobar balans između preciznosti i odziva na nivou svih klasa."
   ]
  },
  {
   "cell_type": "markdown",
   "id": "a1025063",
   "metadata": {},
   "source": [
    "Izračunavanje ROC krive i AUC vrednosti:"
   ]
  },
  {
   "cell_type": "code",
   "execution_count": 46,
   "id": "19a5a24d",
   "metadata": {},
   "outputs": [],
   "source": [
    "# Izračunavanje verovatnoća pripadnosti instanci različitim klasama\n",
    "y_val_probs_rf = best_rf_model.predict_proba(X_val)\n",
    "\n",
    "n_classes_rf = len(best_rf_model.classes_)"
   ]
  },
  {
   "cell_type": "code",
   "execution_count": 48,
   "id": "14b6b720",
   "metadata": {},
   "outputs": [
    {
     "name": "stdout",
     "output_type": "stream",
     "text": [
      "AUC za klasu niska: 0.9847906403940886\n",
      "AUC za klasu srednja: 0.9876958020050125\n",
      "AUC za klasu visoka: 0.9912296564195299\n"
     ]
    },
    {
     "data": {
      "image/png": "[encoded data removed]",
      "text/plain": [
       "<Figure size 800x600 with 1 Axes>"
      ]
     },
     "metadata": {},
     "output_type": "display_data"
    }
   ],
   "source": [
    "# Inicijalizacija praznih lista za čuvanje vrednosti FPR, TPR i AUC za svaku klasu\n",
    "fpr_rf = []\n",
    "tpr_rf = []\n",
    "roc_auc_rf = []\n",
    "# Za svaku klasu izračunavanje FPR, TPR i AUC\n",
    "for i in range(n_classes_rf):\n",
    "    fpr, tpr, _ = roc_curve(y_val, y_val_probs_rf[:, i], pos_label=best_rf_model.classes_[i])\n",
    "    roc_auc = auc(fpr, tpr)\n",
    "    \n",
    "    fpr_rf.append(fpr)\n",
    "    tpr_rf.append(tpr)\n",
    "    roc_auc_rf.append(roc_auc)\n",
    "    \n",
    "    print(f\"AUC za klasu {best_rf_model.classes_[i]}:\", roc_auc)\n",
    "# Plotovanje ROC krive za svaku klasu\n",
    "plt.figure(figsize=(8, 6))\n",
    "colors = ['b', 'g', 'r']\n",
    "for i in range(n_classes):\n",
    "    plt.plot(fpr, tpr, color=colors[i], lw=2, label=f'ROC klasa {best_rf_model.classes_[i]} (AUC = {roc_auc_rf[i]:0.2f})')\n",
    "\n",
    "plt.plot([0, 1], [0, 1], color='navy', lw=2, linestyle='--')\n",
    "plt.xlim([0.0, 1.0])\n",
    "plt.ylim([0.0, 1.05])\n",
    "plt.xlabel('Stopa lažnih pozitiva')\n",
    "plt.ylabel('Stopa istinitih pozitiva')\n",
    "plt.title('ROC kriva za svaku klasu')\n",
    "plt.legend(loc='lower right')\n",
    "plt.show()\n"
   ]
  },
  {
   "cell_type": "markdown",
   "id": "e0fe0416",
   "metadata": {},
   "source": [
    "    Visoke AUC vrednosti (blizu 1) za svaku od klasa ukazuju na dobru sposobnost modela da razlikuje između tih klasa. Što je AUC bliže 1, to je bolje."
   ]
  },
  {
   "cell_type": "markdown",
   "id": "5407c8a2",
   "metadata": {},
   "source": [
    "Izračunavanje Matrice konfuzije:"
   ]
  },
  {
   "cell_type": "code",
   "execution_count": 49,
   "id": "62b2a4bd",
   "metadata": {},
   "outputs": [],
   "source": [
    "# Predviđanja na validacionom skupu\n",
    "y_val_pred_rf = best_rf_model.predict(X_val)"
   ]
  },
  {
   "cell_type": "code",
   "execution_count": 50,
   "id": "d1ab2bd1",
   "metadata": {},
   "outputs": [
    {
     "name": "stdout",
     "output_type": "stream",
     "text": [
      "Matrica konfuzije:\n",
      " [[569  10   1]\n",
      " [ 25 184   1]\n",
      " [  9   1  18]]\n"
     ]
    }
   ],
   "source": [
    "# Izračunavanje matrice konfuzije\n",
    "confusion_rf = confusion_matrix(y_val, y_val_pred_rf)\n",
    "\n",
    "print(\"Matrica konfuzije:\\n\", confusion_rf)"
   ]
  },
  {
   "cell_type": "markdown",
   "id": "2f54e388",
   "metadata": {},
   "source": [
    "    Iz matrice konfuzije možemo videti da postoji relativno mali broj netačnih klasifikacija. Na primer, za klasu \"visoka\" ima samo nekoliko netačnih klasifikacija."
   ]
  },
  {
   "cell_type": "markdown",
   "id": "bcb87e66",
   "metadata": {},
   "source": [
    "# Support Vector Machine"
   ]
  },
  {
   "cell_type": "markdown",
   "id": "f73e0a90",
   "metadata": {},
   "source": [
    "Grid Search za SVM model:"
   ]
  },
  {
   "cell_type": "code",
   "execution_count": 51,
   "id": "0ef29460",
   "metadata": {},
   "outputs": [],
   "source": [
    "# Definisanje parametara za pretragu\n",
    "param_grid = {\n",
    "    'kernel': ['linear', 'rbf'],\n",
    "    'C': [0.1, 1, 10],\n",
    "    'class_weight': ['balanced', None]\n",
    "}"
   ]
  },
  {
   "cell_type": "code",
   "execution_count": 52,
   "id": "d5d73c20",
   "metadata": {},
   "outputs": [],
   "source": [
    "# Kreiranje SVM modela\n",
    "svm_model = SVC(random_state=42)"
   ]
  },
  {
   "cell_type": "code",
   "execution_count": 53,
   "id": "9d8fabf3",
   "metadata": {},
   "outputs": [
    {
     "data": {
      "text/html": [
       "<style>#sk-container-id-5 {color: black;}#sk-container-id-5 pre{padding: 0;}#sk-container-id-5 div.sk-toggleable {background-color: white;}#sk-container-id-5 label.sk-toggleable__label {cursor: pointer;display: block;width: 100%;margin-bottom: 0;padding: 0.3em;box-sizing: border-box;text-align: center;}#sk-container-id-5 label.sk-toggleable__label-arrow:before {content: \"▸\";float: left;margin-right: 0.25em;color: #696969;}#sk-container-id-5 label.sk-toggleable__label-arrow:hover:before {color: black;}#sk-container-id-5 div.sk-estimator:hover label.sk-toggleable__label-arrow:before {color: black;}#sk-container-id-5 div.sk-toggleable__content {max-height: 0;max-width: 0;overflow: hidden;text-align: left;background-color: #f0f8ff;}#sk-container-id-5 div.sk-toggleable__content pre {margin: 0.2em;color: black;border-radius: 0.25em;background-color: #f0f8ff;}#sk-container-id-5 input.sk-toggleable__control:checked~div.sk-toggleable__content {max-height: 200px;max-width: 100%;overflow: auto;}#sk-container-id-5 input.sk-toggleable__control:checked~label.sk-toggleable__label-arrow:before {content: \"▾\";}#sk-container-id-5 div.sk-estimator input.sk-toggleable__control:checked~label.sk-toggleable__label {background-color: #d4ebff;}#sk-container-id-5 div.sk-label input.sk-toggleable__control:checked~label.sk-toggleable__label {background-color: #d4ebff;}#sk-container-id-5 input.sk-hidden--visually {border: 0;clip: rect(1px 1px 1px 1px);clip: rect(1px, 1px, 1px, 1px);height: 1px;margin: -1px;overflow: hidden;padding: 0;position: absolute;width: 1px;}#sk-container-id-5 div.sk-estimator {font-family: monospace;background-color: #f0f8ff;border: 1px dotted black;border-radius: 0.25em;box-sizing: border-box;margin-bottom: 0.5em;}#sk-container-id-5 div.sk-estimator:hover {background-color: #d4ebff;}#sk-container-id-5 div.sk-parallel-item::after {content: \"\";width: 100%;border-bottom: 1px solid gray;flex-grow: 1;}#sk-container-id-5 div.sk-label:hover label.sk-toggleable__label {background-color: #d4ebff;}#sk-container-id-5 div.sk-serial::before {content: \"\";position: absolute;border-left: 1px solid gray;box-sizing: border-box;top: 0;bottom: 0;left: 50%;z-index: 0;}#sk-container-id-5 div.sk-serial {display: flex;flex-direction: column;align-items: center;background-color: white;padding-right: 0.2em;padding-left: 0.2em;position: relative;}#sk-container-id-5 div.sk-item {position: relative;z-index: 1;}#sk-container-id-5 div.sk-parallel {display: flex;align-items: stretch;justify-content: center;background-color: white;position: relative;}#sk-container-id-5 div.sk-item::before, #sk-container-id-5 div.sk-parallel-item::before {content: \"\";position: absolute;border-left: 1px solid gray;box-sizing: border-box;top: 0;bottom: 0;left: 50%;z-index: -1;}#sk-container-id-5 div.sk-parallel-item {display: flex;flex-direction: column;z-index: 1;position: relative;background-color: white;}#sk-container-id-5 div.sk-parallel-item:first-child::after {align-self: flex-end;width: 50%;}#sk-container-id-5 div.sk-parallel-item:last-child::after {align-self: flex-start;width: 50%;}#sk-container-id-5 div.sk-parallel-item:only-child::after {width: 0;}#sk-container-id-5 div.sk-dashed-wrapped {border: 1px dashed gray;margin: 0 0.4em 0.5em 0.4em;box-sizing: border-box;padding-bottom: 0.4em;background-color: white;}#sk-container-id-5 div.sk-label label {font-family: monospace;font-weight: bold;display: inline-block;line-height: 1.2em;}#sk-container-id-5 div.sk-label-container {text-align: center;}#sk-container-id-5 div.sk-container {/* jupyter's `normalize.less` sets `[hidden] { display: none; }` but bootstrap.min.css set `[hidden] { display: none !important; }` so we also need the `!important` here to be able to override the default hidden behavior on the sphinx rendered scikit-learn.org. See: https://github.com/scikit-learn/scikit-learn/issues/21755 */display: inline-block !important;position: relative;}#sk-container-id-5 div.sk-text-repr-fallback {display: none;}</style><div id=\"sk-container-id-5\" class=\"sk-top-container\"><div class=\"sk-text-repr-fallback\"><pre>GridSearchCV(cv=5, estimator=SVC(random_state=42),\n",
       "             param_grid={&#x27;C&#x27;: [0.1, 1, 10], &#x27;class_weight&#x27;: [&#x27;balanced&#x27;, None],\n",
       "                         &#x27;kernel&#x27;: [&#x27;linear&#x27;, &#x27;rbf&#x27;]},\n",
       "             scoring=&#x27;accuracy&#x27;)</pre><b>In a Jupyter environment, please rerun this cell to show the HTML representation or trust the notebook. <br />On GitHub, the HTML representation is unable to render, please try loading this page with nbviewer.org.</b></div><div class=\"sk-container\" hidden><div class=\"sk-item sk-dashed-wrapped\"><div class=\"sk-label-container\"><div class=\"sk-label sk-toggleable\"><input class=\"sk-toggleable__control sk-hidden--visually\" id=\"sk-estimator-id-9\" type=\"checkbox\" ><label for=\"sk-estimator-id-9\" class=\"sk-toggleable__label sk-toggleable__label-arrow\">GridSearchCV</label><div class=\"sk-toggleable__content\"><pre>GridSearchCV(cv=5, estimator=SVC(random_state=42),\n",
       "             param_grid={&#x27;C&#x27;: [0.1, 1, 10], &#x27;class_weight&#x27;: [&#x27;balanced&#x27;, None],\n",
       "                         &#x27;kernel&#x27;: [&#x27;linear&#x27;, &#x27;rbf&#x27;]},\n",
       "             scoring=&#x27;accuracy&#x27;)</pre></div></div></div><div class=\"sk-parallel\"><div class=\"sk-parallel-item\"><div class=\"sk-item\"><div class=\"sk-label-container\"><div class=\"sk-label sk-toggleable\"><input class=\"sk-toggleable__control sk-hidden--visually\" id=\"sk-estimator-id-10\" type=\"checkbox\" ><label for=\"sk-estimator-id-10\" class=\"sk-toggleable__label sk-toggleable__label-arrow\">estimator: SVC</label><div class=\"sk-toggleable__content\"><pre>SVC(random_state=42)</pre></div></div></div><div class=\"sk-serial\"><div class=\"sk-item\"><div class=\"sk-estimator sk-toggleable\"><input class=\"sk-toggleable__control sk-hidden--visually\" id=\"sk-estimator-id-11\" type=\"checkbox\" ><label for=\"sk-estimator-id-11\" class=\"sk-toggleable__label sk-toggleable__label-arrow\">SVC</label><div class=\"sk-toggleable__content\"><pre>SVC(random_state=42)</pre></div></div></div></div></div></div></div></div></div></div>"
      ],
      "text/plain": [
       "GridSearchCV(cv=5, estimator=SVC(random_state=42),\n",
       "             param_grid={'C': [0.1, 1, 10], 'class_weight': ['balanced', None],\n",
       "                         'kernel': ['linear', 'rbf']},\n",
       "             scoring='accuracy')"
      ]
     },
     "execution_count": 53,
     "metadata": {},
     "output_type": "execute_result"
    }
   ],
   "source": [
    "# Grid Search\n",
    "grid_search_svm = GridSearchCV(svm_model, param_grid, cv=5, scoring='accuracy')\n",
    "grid_search_svm.fit(X_train, y_train)"
   ]
  },
  {
   "cell_type": "code",
   "execution_count": 54,
   "id": "8f662fda",
   "metadata": {},
   "outputs": [
    {
     "name": "stdout",
     "output_type": "stream",
     "text": [
      "Najbolji model: SVC(C=10, random_state=42)\n"
     ]
    }
   ],
   "source": [
    "# Najbolji model i parametri\n",
    "best_svm_model = grid_search_svm.best_estimator_\n",
    "print(\"Najbolji model:\", best_svm_model)"
   ]
  },
  {
   "cell_type": "code",
   "execution_count": 55,
   "id": "aa43e449",
   "metadata": {},
   "outputs": [
    {
     "name": "stdout",
     "output_type": "stream",
     "text": [
      "Najbolji parametri: {'C': 10, 'class_weight': None, 'kernel': 'rbf'}\n"
     ]
    }
   ],
   "source": [
    "best_params_svm = grid_search_svm.best_params_\n",
    "print(\"Najbolji parametri:\", best_params_svm)"
   ]
  },
  {
   "cell_type": "markdown",
   "id": "4591749f",
   "metadata": {},
   "source": [
    "Evaluacija SVM modela:"
   ]
  },
  {
   "cell_type": "code",
   "execution_count": 56,
   "id": "9fbee8ae",
   "metadata": {},
   "outputs": [],
   "source": [
    "# Predviđanje na validacionom skupu\n",
    "y_val_pred_svm = best_svm_model.predict(X_val)"
   ]
  },
  {
   "cell_type": "code",
   "execution_count": 57,
   "id": "eab2df52",
   "metadata": {},
   "outputs": [
    {
     "name": "stdout",
     "output_type": "stream",
     "text": [
      "Tačnost: 0.9290953545232273\n"
     ]
    }
   ],
   "source": [
    "# Računanje tačnosti\n",
    "accuracy_svm = accuracy_score(y_val, y_val_pred_svm)\n",
    "print(\"Tačnost:\", accuracy_svm)"
   ]
  },
  {
   "cell_type": "code",
   "execution_count": 58,
   "id": "36130d1d",
   "metadata": {},
   "outputs": [
    {
     "name": "stdout",
     "output_type": "stream",
     "text": [
      "Izveštaj o klasifikaciji:\n",
      "               precision    recall  f1-score   support\n",
      "\n",
      "       niska       0.93      0.98      0.95       580\n",
      "     srednja       0.93      0.84      0.88       210\n",
      "      visoka       0.89      0.57      0.70        28\n",
      "\n",
      "    accuracy                           0.93       818\n",
      "   macro avg       0.92      0.80      0.84       818\n",
      "weighted avg       0.93      0.93      0.93       818\n",
      "\n"
     ]
    }
   ],
   "source": [
    "# Izveštaj o klasifikaciji\n",
    "report_svm = classification_report(y_val, y_val_pred_svm)\n",
    "print(\"Izveštaj o klasifikaciji:\\n\", report_svm)"
   ]
  },
  {
   "cell_type": "markdown",
   "id": "2531d1f1",
   "metadata": {},
   "source": [
    "Računanje ROC krive i AUC vrednosti za SVM model:"
   ]
  },
  {
   "cell_type": "code",
   "execution_count": 59,
   "id": "27a77937",
   "metadata": {},
   "outputs": [
    {
     "name": "stdout",
     "output_type": "stream",
     "text": [
      "AUC za klasu niska: 0.9570486815415822\n",
      "AUC za klasu srednja: 0.9694000626566416\n",
      "AUC za klasu visoka: 0.9543851717902351\n"
     ]
    }
   ],
   "source": [
    "# Računanje verovatnoća pripadnosti klasama\n",
    "y_val_probs_svm = best_svm_model.decision_function(X_val)\n",
    "\n",
    "# Inicijalizacija niza za čuvanje rezultata AUC za svaku klasu\n",
    "roc_auc_svm = []\n",
    "\n",
    "# Za svaku klasu, računanje ROC krive i AUC\n",
    "for i in range(n_classes):\n",
    "    fpr, tpr, _ = roc_curve(y_val, y_val_probs_svm[:, i], pos_label=best_svm_model.classes_[i])\n",
    "    roc_auc_svm.append(auc(fpr, tpr))\n",
    "\n",
    "# Ispis AUC vrednosti za svaku klasu\n",
    "for i, auc_value in enumerate(roc_auc_svm):\n",
    "    print(f\"AUC za klasu {best_svm_model.classes_[i]}:\", auc_value)\n"
   ]
  },
  {
   "cell_type": "code",
   "execution_count": 60,
   "id": "5ecc29a5",
   "metadata": {},
   "outputs": [
    {
     "name": "stdout",
     "output_type": "stream",
     "text": [
      "Matrica konfuzije za SVM model:\n",
      " [[567  12   1]\n",
      " [ 32 177   1]\n",
      " [ 11   1  16]]\n"
     ]
    }
   ],
   "source": [
    "#Računanje matrice konfuzije za SVM model\n",
    "confusion_svm = confusion_matrix(y_val, y_val_pred_svm)\n",
    "print(\"Matrica konfuzije za SVM model:\\n\", confusion_svm)"
   ]
  },
  {
   "cell_type": "markdown",
   "id": "7202431a",
   "metadata": {},
   "source": [
    "Logistička regresija:\n",
    "\n",
    "    Tačnost modela na validacionom skupu iznosi oko 0.73, što znači da ovaj model ima pristojnu tačnost, ali može biti poboljšan.\n",
    "    Model ima relativno nisku preciznost i odziv za klasu \"visoka,\" što sugerira da ima problema u prepoznavanju te klase.\n",
    "    ROC krive i AUC vrednosti za svaku klasu su relativno niske, što ukazuje na lošu sposobnost modela da razdvaja klase.\n",
    "    \n",
    "Random Forest:\n",
    "\n",
    "    Tačnost modela na validacionom skupu iznosi oko 0.94, što je znatno bolje u odnosu na logističku regresiju.\n",
    "    Model pokazuje visoke vrednosti preciznosti, odziva i F1-skora za sve tri klase, što ukazuje na dobru sposobnost klasifikacije.\n",
    "    ROC krive i visoke AUC vrednosti za svaku klasu sugerišu da je model dobro razdvajao klase.\n",
    "    \n",
    "SVM (Support Vector Machine):\n",
    "\n",
    "    Tačnost modela na validacionom skupu iznosi oko 0.93, što je takođe dobro, ali malo niže od rezultata Random Forest-a.\n",
    "    Model takođe pokazuje dobre vrednosti preciznosti i odziva za sve tri klase.\n",
    "    ROC krive i AUC vrednosti su slične Random Forest modelu, što ukazuje na dobru sposobnost razdvajanja klasa. "
   ]
  },
  {
   "cell_type": "markdown",
   "id": "88230695",
   "metadata": {},
   "source": [
    "<!-- Iz rezultata koje smo dobili za tri različita modela možemo izvući nekoliko zaključaka:\n",
    "\n",
    "    Tačnost modela:\n",
    "        Random Forest model ima najvišu tačnost na validacionom skupu sa vrednošću od 0.95.\n",
    "        Logistička regresija i SVM model imaju slične tačnosti oko 0.84.\n",
    "\n",
    "    Precision, Recall i F1-skor:\n",
    "       Precision meri tačnost pozitivnih predviđanja. Random Forest model ima najvišu preciznost za sve tri klase.\n",
    "        Recall meri sposobnost modela da pronađe sve pozitivne instance. Random Forest takođe ima najviši recall za većinu klasa.\n",
    "        F1-skor je harmonijska sredina između precision i recall i daje celokupnu ocenu performansi modela.\n",
    "\n",
    "    Klasifikacija po klasama:\n",
    "        U slučaju svih modela, klasa \"niska\" ima najbolje rezultate u smislu preciznosti i recall-a, dok je klasa \"visoka\" teže predvidiva.\n",
    "        Random Forest model ima najbolje performanse u predviđanju svih klasa.\n",
    "\n",
    "    Generalizacija:\n",
    "        Random Forest model ima bolju sposobnost generalizacije na osnovu viših vrednosti preciznosti i recall-a na validacionom skupu.\n",
    "\n",
    "Opšti zaključak može biti da Random Forest model treniran sa balansiranim težinama daje najbolje performanse na ovim podacima. Logistička regresija i SVM modeli, iako imaju pristojne rezultate, nisu tako efikasni u klasifikaciji kao Random Forest -->"
   ]
  },
  {
   "cell_type": "code",
   "execution_count": 62,
   "id": "7dce6ca9",
   "metadata": {},
   "outputs": [
    {
     "name": "stdout",
     "output_type": "stream",
     "text": [
      "Tačnost na test skupu: 0.9474969474969475\n"
     ]
    }
   ],
   "source": [
    "#Testiranje na test skupu: (izabrali smo najbolji model za klasifikaciju --> Random Forest)\n",
    "# Predviđanje na test skupu\n",
    "y_test_pred_rf = best_rf_model.predict(X_test)\n",
    "\n",
    "# Evaluacija modela na test skupu\n",
    "# Računanje tačnosti\n",
    "accuracy_test_rf = accuracy_score(y_test, y_test_pred_rf)\n",
    "print(\"Tačnost na test skupu:\", accuracy_test_rf)"
   ]
  },
  {
   "cell_type": "code",
   "execution_count": 63,
   "id": "3cbea29e",
   "metadata": {},
   "outputs": [
    {
     "name": "stdout",
     "output_type": "stream",
     "text": [
      "Izveštaj o klasifikaciji na test skupu:\n",
      "               precision    recall  f1-score   support\n",
      "\n",
      "       niska       0.95      0.99      0.97       591\n",
      "     srednja       0.95      0.89      0.92       197\n",
      "      visoka       0.76      0.52      0.62        31\n",
      "\n",
      "    accuracy                           0.95       819\n",
      "   macro avg       0.89      0.80      0.84       819\n",
      "weighted avg       0.95      0.95      0.94       819\n",
      "\n"
     ]
    }
   ],
   "source": [
    "# Izveštaj o klasifikaciji na test skupu\n",
    "report_test_rf = classification_report(y_test, y_test_pred_rf)\n",
    "print(\"Izveštaj o klasifikaciji na test skupu:\\n\", report_test_rf)\n"
   ]
  },
  {
   "cell_type": "code",
   "execution_count": 75,
   "id": "78f2c3af",
   "metadata": {},
   "outputs": [
    {
     "name": "stdout",
     "output_type": "stream",
     "text": [
      "Matrica konfuzije na test skupu:\n",
      " [[584   6   1]\n",
      " [ 17 176   4]\n",
      " [ 11   4  16]]\n"
     ]
    }
   ],
   "source": [
    "# Računanje matrice konfuzije na test skupu\n",
    "confusion_test_rf = confusion_matrix(y_test, y_test_pred_rf)\n",
    "print(\"Matrica konfuzije na test skupu:\\n\", confusion_test_rf)"
   ]
  },
  {
   "cell_type": "markdown",
   "id": "7ae6df09",
   "metadata": {},
   "source": [
    "Random Forest modelima visoku tačnost na test skupu  sa tačnošću približno 94.75%. \n",
    "Ovo ukazuje na na dobru sposobnost modela da klasifikuje instance u ispravne kategorije.\n",
    "\n",
    "<!-- Ovo ukazuje na to da model dobro generalizuje i radi dobro na novim podacima koje nije video tokom treninga i validacije. -->\n",
    "\n",
    "Precision, recall i F1-score metrike za svaku od klasa pružaju detaljniji uvid u performanse modela. Model ima dobar F1-score za klasu \"niska,\" što ukazuje na dobru ravnotežu između preciznosti i odziva za ovu klasu. Za klasu \"srednja\" takođe su rezultati dobri, dok je za klasu \"visoka\" F1-score niži, što znači da model ima veći broj lažnih negativa za ovu klasu.\n",
    "\n",
    "Matrica konfuzije prikazuje tačne i netačne klasifikacije za svaku klasu. Možemo videti da model dobro razdvaja klasu \"niska,\" ali ima poteškoća u razdvajanju klase \"visoka\" od ostalih klasa.\n",
    "\n",
    "Random Forest model se čini kao dobar izbor za ovaj problem klasifikacije ocena atrakcija na osnovu rezultata na test skupu."
   ]
  },
  {
   "cell_type": "markdown",
   "id": "139a8888",
   "metadata": {},
   "source": [
    "Prikaz stabla odlučivanja:"
   ]
  },
  {
   "cell_type": "code",
   "execution_count": 69,
   "id": "7b8a81a0",
   "metadata": {},
   "outputs": [
    {
     "data": {
      "image/png": "[encoded data removed]",
      "text/plain": [
       "<Figure size 2000x1000 with 1 Axes>"
      ]
     },
     "metadata": {},
     "output_type": "display_data"
    }
   ],
   "source": [
    "# Biramo jedno stablo iz modela(npr. prvo stablo)\n",
    "selected_tree = best_rf_model.estimators_[0]\n",
    "\n",
    "# Konvertovanje imena atributa u listu\n",
    "attribute_names = list(X_train.columns)\n",
    "\n",
    "# Prikaz stabla odlučivanja\n",
    "plt.figure(figsize=(20, 10))\n",
    "plot_tree(selected_tree, filled=True, feature_names=attribute_names, class_names=[\"niska\", \"srednja\", \"visoka\"])\n",
    "plt.title('Stablo odlučivanja iz Random Forest modela')\n",
    "plt.show()"
   ]
  },
  {
   "cell_type": "markdown",
   "id": "f3fe63b8",
   "metadata": {},
   "source": [
    " Matrica konfuzije"
   ]
  },
  {
   "cell_type": "code",
   "execution_count": 76,
   "id": "96cd71ac",
   "metadata": {},
   "outputs": [
    {
     "name": "stdout",
     "output_type": "stream",
     "text": [
      "Matrica konfuzije:\n",
      "[[435  82  63]\n",
      " [ 38 138  34]\n",
      " [  1   0  27]]\n"
     ]
    },
    {
     "data": {
      "image/png": "[encoded data removed]",
      "text/plain": [
       "<Figure size 640x480 with 2 Axes>"
      ]
     },
     "metadata": {},
     "output_type": "display_data"
    }
   ],
   "source": [
    "# Kreiranje matrice konfuzije\n",
    "confusion_test_rf = confusion_matrix(y_test, y_test_pred_rf)\n",
    "class_names = [\"niska\", \"srednja\", \"visoka\"]\n",
    "# Ispis matrice konfuzije\n",
    "disp = ConfusionMatrixDisplay(confusion, display_labels=class_names)\n",
    "disp.plot(cmap=plt.cm.Blues)\n",
    "print(\"Matrica konfuzije:\")\n",
    "print(confusion)"
   ]
  },
  {
   "cell_type": "markdown",
   "id": "90f8b9bf",
   "metadata": {},
   "source": [
    "Ova matrica konfuzije prikazuje tačne i netačne klasifikacije za svaku od klasa na test skupu. Evo analize rezultata:\n",
    "\n",
    "    Za klasu \"niska\": Model je tačno klasifikovao većinu instanci u ovu klasu, što se vidi po visokim vrednostima na glavnoj dijagonali matrice konfuzije. Postoji mali broj lažnih pozitiva i lažnih negativa, što ukazuje na dobru preciznost i odziv za ovu klasu.\n",
    "\n",
    "    Za klasu \"srednja\": Model takođe pokazuje dobru tačnost za ovu klasu, s većinom tačnih klasifikacija. Preciznost i odziv su visoki, što ukazuje na dobar balans između tačnosti i odziva.\n",
    "\n",
    "    Za klasu \"visoka\": Model ima poteškoća u klasifikaciji ove klase, što se vidi po nižim vrednostima na glavnoj dijagonali matrice. Postoji veći broj lažnih negativa, što znači da model često klasifikuje instance iz ove klase kao druge klase.\n",
    "\n",
    "Opšti zaključak je da Random Forest model dobro radi za klasifikaciju klasa \"niska\" i \"srednja,\" ali može se unaprediti za klasu \"visoka.\""
   ]
  },
  {
   "cell_type": "code",
   "execution_count": 72,
   "id": "5c4f5bfc",
   "metadata": {},
   "outputs": [
    {
     "name": "stdout",
     "output_type": "stream",
     "text": [
      "Tačnost: 0.95\n",
      "Preciznost: 0.95\n",
      "Odziv: 0.95\n",
      "F1-skor: 0.94\n"
     ]
    }
   ],
   "source": [
    "accuracy = accuracy_score(y_test, y_test_pred_rf)\n",
    "print(f\"Tačnost: {accuracy:.2f}\")\n",
    "\n",
    "precision = precision_score(y_test, y_test_pred_rf, average='weighted')\n",
    "print(f\"Preciznost: {precision:.2f}\")\n",
    "\n",
    "recall = recall_score(y_test, y_test_pred_rf, average='weighted')\n",
    "print(f\"Odziv: {recall:.2f}\")\n",
    "\n",
    "f1 = f1_score(y_test, y_test_pred_rf, average='weighted')\n",
    "print(f\"F1-skor: {f1:.2f}\")\n"
   ]
  },
  {
   "cell_type": "markdown",
   "id": "e07dc76e",
   "metadata": {},
   "source": [
    "    Tačnost (Accuracy): Model ima tačnost od 0.95, što znači da tačno klasifikuje 95% instanci na test skupu. Ovo ukazuje na dobar ukupan performans modela.\n",
    "\n",
    "    Preciznost (Precision): Preciznost je 0.95, što znači da je prosečna preciznost modela za sve klase visoka. To znači da je većina pozitivnih predviđanja tačna i da ima malo lažnih pozitiva.\n",
    "\n",
    "    Odziv (Recall): Odziv je takođe 0.95, što ukazuje na dobar odziv modela za sve klase. To znači da model dobro pronalazi većinu pozitivnih instanci i ima malo lažnih negativa.\n",
    "\n",
    "    F1-skor: F1-skor je 0.94, što je harmonična sredina između preciznosti i odziva. Ovo je dobar pokazatelj balansa između tačnosti i kompletnosti modela.\n",
    "    \n",
    "U suštini, ovi rezultati ukazuju na to da Random Forest model dobro radi na test skupu i ima visoke performanse u klasifikaciji. "
   ]
  },
  {
   "cell_type": "code",
   "execution_count": null,
   "id": "f3386f84",
   "metadata": {},
   "outputs": [],
   "source": [
    "\n"
   ]
  },
  {
   "cell_type": "code",
   "execution_count": null,
   "id": "fd9e008a",
   "metadata": {},
   "outputs": [],
   "source": []
  },
  {
   "cell_type": "code",
   "execution_count": null,
   "id": "68617942",
   "metadata": {},
   "outputs": [],
   "source": []
  },
  {
   "cell_type": "code",
   "execution_count": null,
   "id": "f72a2280",
   "metadata": {},
   "outputs": [],
   "source": []
  },
  {
   "cell_type": "code",
   "execution_count": null,
   "id": "676690a3",
   "metadata": {},
   "outputs": [],
   "source": []
  }
 ],
 "metadata": {
  "kernelspec": {
   "display_name": "Python 3 (ipykernel)",
   "language": "python",
   "name": "python3"
  },
  "language_info": {
   "codemirror_mode": {
    "name": "ipython",
    "version": 3
   },
   "file_extension": ".py",
   "mimetype": "text/x-python",
   "name": "python",
   "nbconvert_exporter": "python",
   "pygments_lexer": "ipython3",
   "version": "3.10.12"
  }
 },
 "nbformat": 4,
 "nbformat_minor": 5
}
